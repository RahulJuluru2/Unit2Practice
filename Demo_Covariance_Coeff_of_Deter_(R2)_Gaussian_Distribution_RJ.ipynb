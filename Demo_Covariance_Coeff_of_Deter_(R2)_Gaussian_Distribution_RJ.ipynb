{
  "cells": [
    {
      "cell_type": "markdown",
      "metadata": {
        "id": "view-in-github",
        "colab_type": "text"
      },
      "source": [
        "<a href=\"https://colab.research.google.com/github/RahulJuluru2/Unit2Practice/blob/main/Demo_Covariance_Coeff_of_Deter_(R2)_Gaussian_Distribution_RJ.ipynb\" target=\"_parent\"><img src=\"https://colab.research.google.com/assets/colab-badge.svg\" alt=\"Open In Colab\"/></a>"
      ]
    },
    {
      "cell_type": "markdown",
      "source": [
        "# Advanced Certification in AIML\n",
        "## A Program by IIIT-H and TalentSprint\n",
        "\n",
        "#### Walkthrough"
      ],
      "metadata": {
        "id": "poGw5lyi12e4"
      }
    },
    {
      "cell_type": "markdown",
      "source": [
        "### Learning Objectives:\n",
        "\n",
        "At the end of the experiment, you will be able to undertand :\n",
        "\n",
        " * Variance\n",
        " * Standard Deviation\n",
        " * Covariance\n",
        " * Correlation Coefficient\n",
        " * Coefficient of Determination\n",
        " * Gaussian Distribution\n",
        "\n"
      ],
      "metadata": {
        "id": "84J52T9c1_35"
      }
    },
    {
      "cell_type": "code",
      "execution_count": 1,
      "metadata": {
        "id": "23oKU_TR6C45"
      },
      "outputs": [],
      "source": [
        "import numpy as np\n",
        "import pandas as pd\n",
        "import matplotlib.pyplot as plt"
      ]
    },
    {
      "cell_type": "code",
      "source": [
        "\n",
        "#@title Run this cell to upload the data\n",
        "%%capture\n",
        "!wget https://cdn.extras.talentsprint.com/IOT/Data/data1.txt\n",
        "!wget https://cdn.iiith.talentsprint.com/aiml/Experiment_related_data/Iris.csv\n",
        "!wget https://cdn.iiith.talentsprint.com/aiml/Experiment_related_data/titanic.csv\n"
      ],
      "metadata": {
        "cellView": "code",
        "id": "dFWjec-qqT7b"
      },
      "execution_count": 2,
      "outputs": []
    },
    {
      "cell_type": "code",
      "execution_count": 3,
      "metadata": {
        "colab": {
          "base_uri": "https://localhost:8080/",
          "height": 206
        },
        "id": "EB1TLPj06C5B",
        "outputId": "7e9bdae8-fcc7-4274-f265-bc0d8ada3f8a"
      },
      "outputs": [
        {
          "output_type": "execute_result",
          "data": {
            "text/plain": [
              "   Visitor_Count   Profit\n",
              "0         6.1101  17.5920\n",
              "1         5.5277   9.1302\n",
              "2         8.5186  13.6620\n",
              "3         7.0032  11.8540\n",
              "4         5.8598   6.8233"
            ],
            "text/html": [
              "\n",
              "  <div id=\"df-89489291-9df8-4ad5-a1a1-93abf5d67fb0\">\n",
              "    <div class=\"colab-df-container\">\n",
              "      <div>\n",
              "<style scoped>\n",
              "    .dataframe tbody tr th:only-of-type {\n",
              "        vertical-align: middle;\n",
              "    }\n",
              "\n",
              "    .dataframe tbody tr th {\n",
              "        vertical-align: top;\n",
              "    }\n",
              "\n",
              "    .dataframe thead th {\n",
              "        text-align: right;\n",
              "    }\n",
              "</style>\n",
              "<table border=\"1\" class=\"dataframe\">\n",
              "  <thead>\n",
              "    <tr style=\"text-align: right;\">\n",
              "      <th></th>\n",
              "      <th>Visitor_Count</th>\n",
              "      <th>Profit</th>\n",
              "    </tr>\n",
              "  </thead>\n",
              "  <tbody>\n",
              "    <tr>\n",
              "      <th>0</th>\n",
              "      <td>6.1101</td>\n",
              "      <td>17.5920</td>\n",
              "    </tr>\n",
              "    <tr>\n",
              "      <th>1</th>\n",
              "      <td>5.5277</td>\n",
              "      <td>9.1302</td>\n",
              "    </tr>\n",
              "    <tr>\n",
              "      <th>2</th>\n",
              "      <td>8.5186</td>\n",
              "      <td>13.6620</td>\n",
              "    </tr>\n",
              "    <tr>\n",
              "      <th>3</th>\n",
              "      <td>7.0032</td>\n",
              "      <td>11.8540</td>\n",
              "    </tr>\n",
              "    <tr>\n",
              "      <th>4</th>\n",
              "      <td>5.8598</td>\n",
              "      <td>6.8233</td>\n",
              "    </tr>\n",
              "  </tbody>\n",
              "</table>\n",
              "</div>\n",
              "      <button class=\"colab-df-convert\" onclick=\"convertToInteractive('df-89489291-9df8-4ad5-a1a1-93abf5d67fb0')\"\n",
              "              title=\"Convert this dataframe to an interactive table.\"\n",
              "              style=\"display:none;\">\n",
              "        \n",
              "  <svg xmlns=\"http://www.w3.org/2000/svg\" height=\"24px\"viewBox=\"0 0 24 24\"\n",
              "       width=\"24px\">\n",
              "    <path d=\"M0 0h24v24H0V0z\" fill=\"none\"/>\n",
              "    <path d=\"M18.56 5.44l.94 2.06.94-2.06 2.06-.94-2.06-.94-.94-2.06-.94 2.06-2.06.94zm-11 1L8.5 8.5l.94-2.06 2.06-.94-2.06-.94L8.5 2.5l-.94 2.06-2.06.94zm10 10l.94 2.06.94-2.06 2.06-.94-2.06-.94-.94-2.06-.94 2.06-2.06.94z\"/><path d=\"M17.41 7.96l-1.37-1.37c-.4-.4-.92-.59-1.43-.59-.52 0-1.04.2-1.43.59L10.3 9.45l-7.72 7.72c-.78.78-.78 2.05 0 2.83L4 21.41c.39.39.9.59 1.41.59.51 0 1.02-.2 1.41-.59l7.78-7.78 2.81-2.81c.8-.78.8-2.07 0-2.86zM5.41 20L4 18.59l7.72-7.72 1.47 1.35L5.41 20z\"/>\n",
              "  </svg>\n",
              "      </button>\n",
              "      \n",
              "  <style>\n",
              "    .colab-df-container {\n",
              "      display:flex;\n",
              "      flex-wrap:wrap;\n",
              "      gap: 12px;\n",
              "    }\n",
              "\n",
              "    .colab-df-convert {\n",
              "      background-color: #E8F0FE;\n",
              "      border: none;\n",
              "      border-radius: 50%;\n",
              "      cursor: pointer;\n",
              "      display: none;\n",
              "      fill: #1967D2;\n",
              "      height: 32px;\n",
              "      padding: 0 0 0 0;\n",
              "      width: 32px;\n",
              "    }\n",
              "\n",
              "    .colab-df-convert:hover {\n",
              "      background-color: #E2EBFA;\n",
              "      box-shadow: 0px 1px 2px rgba(60, 64, 67, 0.3), 0px 1px 3px 1px rgba(60, 64, 67, 0.15);\n",
              "      fill: #174EA6;\n",
              "    }\n",
              "\n",
              "    [theme=dark] .colab-df-convert {\n",
              "      background-color: #3B4455;\n",
              "      fill: #D2E3FC;\n",
              "    }\n",
              "\n",
              "    [theme=dark] .colab-df-convert:hover {\n",
              "      background-color: #434B5C;\n",
              "      box-shadow: 0px 1px 3px 1px rgba(0, 0, 0, 0.15);\n",
              "      filter: drop-shadow(0px 1px 2px rgba(0, 0, 0, 0.3));\n",
              "      fill: #FFFFFF;\n",
              "    }\n",
              "  </style>\n",
              "\n",
              "      <script>\n",
              "        const buttonEl =\n",
              "          document.querySelector('#df-89489291-9df8-4ad5-a1a1-93abf5d67fb0 button.colab-df-convert');\n",
              "        buttonEl.style.display =\n",
              "          google.colab.kernel.accessAllowed ? 'block' : 'none';\n",
              "\n",
              "        async function convertToInteractive(key) {\n",
              "          const element = document.querySelector('#df-89489291-9df8-4ad5-a1a1-93abf5d67fb0');\n",
              "          const dataTable =\n",
              "            await google.colab.kernel.invokeFunction('convertToInteractive',\n",
              "                                                     [key], {});\n",
              "          if (!dataTable) return;\n",
              "\n",
              "          const docLinkHtml = 'Like what you see? Visit the ' +\n",
              "            '<a target=\"_blank\" href=https://colab.research.google.com/notebooks/data_table.ipynb>data table notebook</a>'\n",
              "            + ' to learn more about interactive tables.';\n",
              "          element.innerHTML = '';\n",
              "          dataTable['output_type'] = 'display_data';\n",
              "          await google.colab.output.renderOutput(dataTable, element);\n",
              "          const docLink = document.createElement('div');\n",
              "          docLink.innerHTML = docLinkHtml;\n",
              "          element.appendChild(docLink);\n",
              "        }\n",
              "      </script>\n",
              "    </div>\n",
              "  </div>\n",
              "  "
            ]
          },
          "metadata": {},
          "execution_count": 3
        }
      ],
      "source": [
        "data=pd.read_csv('data1.txt',header=None)\n",
        "data.rename(columns={0:'Visitor_Count',1:'Profit'},inplace=True)\n",
        "data.head()"
      ]
    },
    {
      "cell_type": "code",
      "execution_count": 4,
      "metadata": {
        "id": "BUebhcIV6C5H",
        "colab": {
          "base_uri": "https://localhost:8080/",
          "height": 206
        },
        "outputId": "14f227ca-0cb8-417c-ddd4-683aef392cf3"
      },
      "outputs": [
        {
          "output_type": "execute_result",
          "data": {
            "text/plain": [
              "   Visitor_Count  Profit\n",
              "0           6.11   17.59\n",
              "1           5.53    9.13\n",
              "2           8.52   13.66\n",
              "3           7.00   11.85\n",
              "4           5.86    6.82"
            ],
            "text/html": [
              "\n",
              "  <div id=\"df-741385bd-d0f8-45aa-80c9-1fa8bce9da39\">\n",
              "    <div class=\"colab-df-container\">\n",
              "      <div>\n",
              "<style scoped>\n",
              "    .dataframe tbody tr th:only-of-type {\n",
              "        vertical-align: middle;\n",
              "    }\n",
              "\n",
              "    .dataframe tbody tr th {\n",
              "        vertical-align: top;\n",
              "    }\n",
              "\n",
              "    .dataframe thead th {\n",
              "        text-align: right;\n",
              "    }\n",
              "</style>\n",
              "<table border=\"1\" class=\"dataframe\">\n",
              "  <thead>\n",
              "    <tr style=\"text-align: right;\">\n",
              "      <th></th>\n",
              "      <th>Visitor_Count</th>\n",
              "      <th>Profit</th>\n",
              "    </tr>\n",
              "  </thead>\n",
              "  <tbody>\n",
              "    <tr>\n",
              "      <th>0</th>\n",
              "      <td>6.11</td>\n",
              "      <td>17.59</td>\n",
              "    </tr>\n",
              "    <tr>\n",
              "      <th>1</th>\n",
              "      <td>5.53</td>\n",
              "      <td>9.13</td>\n",
              "    </tr>\n",
              "    <tr>\n",
              "      <th>2</th>\n",
              "      <td>8.52</td>\n",
              "      <td>13.66</td>\n",
              "    </tr>\n",
              "    <tr>\n",
              "      <th>3</th>\n",
              "      <td>7.00</td>\n",
              "      <td>11.85</td>\n",
              "    </tr>\n",
              "    <tr>\n",
              "      <th>4</th>\n",
              "      <td>5.86</td>\n",
              "      <td>6.82</td>\n",
              "    </tr>\n",
              "  </tbody>\n",
              "</table>\n",
              "</div>\n",
              "      <button class=\"colab-df-convert\" onclick=\"convertToInteractive('df-741385bd-d0f8-45aa-80c9-1fa8bce9da39')\"\n",
              "              title=\"Convert this dataframe to an interactive table.\"\n",
              "              style=\"display:none;\">\n",
              "        \n",
              "  <svg xmlns=\"http://www.w3.org/2000/svg\" height=\"24px\"viewBox=\"0 0 24 24\"\n",
              "       width=\"24px\">\n",
              "    <path d=\"M0 0h24v24H0V0z\" fill=\"none\"/>\n",
              "    <path d=\"M18.56 5.44l.94 2.06.94-2.06 2.06-.94-2.06-.94-.94-2.06-.94 2.06-2.06.94zm-11 1L8.5 8.5l.94-2.06 2.06-.94-2.06-.94L8.5 2.5l-.94 2.06-2.06.94zm10 10l.94 2.06.94-2.06 2.06-.94-2.06-.94-.94-2.06-.94 2.06-2.06.94z\"/><path d=\"M17.41 7.96l-1.37-1.37c-.4-.4-.92-.59-1.43-.59-.52 0-1.04.2-1.43.59L10.3 9.45l-7.72 7.72c-.78.78-.78 2.05 0 2.83L4 21.41c.39.39.9.59 1.41.59.51 0 1.02-.2 1.41-.59l7.78-7.78 2.81-2.81c.8-.78.8-2.07 0-2.86zM5.41 20L4 18.59l7.72-7.72 1.47 1.35L5.41 20z\"/>\n",
              "  </svg>\n",
              "      </button>\n",
              "      \n",
              "  <style>\n",
              "    .colab-df-container {\n",
              "      display:flex;\n",
              "      flex-wrap:wrap;\n",
              "      gap: 12px;\n",
              "    }\n",
              "\n",
              "    .colab-df-convert {\n",
              "      background-color: #E8F0FE;\n",
              "      border: none;\n",
              "      border-radius: 50%;\n",
              "      cursor: pointer;\n",
              "      display: none;\n",
              "      fill: #1967D2;\n",
              "      height: 32px;\n",
              "      padding: 0 0 0 0;\n",
              "      width: 32px;\n",
              "    }\n",
              "\n",
              "    .colab-df-convert:hover {\n",
              "      background-color: #E2EBFA;\n",
              "      box-shadow: 0px 1px 2px rgba(60, 64, 67, 0.3), 0px 1px 3px 1px rgba(60, 64, 67, 0.15);\n",
              "      fill: #174EA6;\n",
              "    }\n",
              "\n",
              "    [theme=dark] .colab-df-convert {\n",
              "      background-color: #3B4455;\n",
              "      fill: #D2E3FC;\n",
              "    }\n",
              "\n",
              "    [theme=dark] .colab-df-convert:hover {\n",
              "      background-color: #434B5C;\n",
              "      box-shadow: 0px 1px 3px 1px rgba(0, 0, 0, 0.15);\n",
              "      filter: drop-shadow(0px 1px 2px rgba(0, 0, 0, 0.3));\n",
              "      fill: #FFFFFF;\n",
              "    }\n",
              "  </style>\n",
              "\n",
              "      <script>\n",
              "        const buttonEl =\n",
              "          document.querySelector('#df-741385bd-d0f8-45aa-80c9-1fa8bce9da39 button.colab-df-convert');\n",
              "        buttonEl.style.display =\n",
              "          google.colab.kernel.accessAllowed ? 'block' : 'none';\n",
              "\n",
              "        async function convertToInteractive(key) {\n",
              "          const element = document.querySelector('#df-741385bd-d0f8-45aa-80c9-1fa8bce9da39');\n",
              "          const dataTable =\n",
              "            await google.colab.kernel.invokeFunction('convertToInteractive',\n",
              "                                                     [key], {});\n",
              "          if (!dataTable) return;\n",
              "\n",
              "          const docLinkHtml = 'Like what you see? Visit the ' +\n",
              "            '<a target=\"_blank\" href=https://colab.research.google.com/notebooks/data_table.ipynb>data table notebook</a>'\n",
              "            + ' to learn more about interactive tables.';\n",
              "          element.innerHTML = '';\n",
              "          dataTable['output_type'] = 'display_data';\n",
              "          await google.colab.output.renderOutput(dataTable, element);\n",
              "          const docLink = document.createElement('div');\n",
              "          docLink.innerHTML = docLinkHtml;\n",
              "          element.appendChild(docLink);\n",
              "        }\n",
              "      </script>\n",
              "    </div>\n",
              "  </div>\n",
              "  "
            ]
          },
          "metadata": {},
          "execution_count": 4
        }
      ],
      "source": [
        "## Discarding values beyond 2 decimal points\n",
        "f=lambda x:'%.2f'%x\n",
        "data=data.applymap(f).astype(float)\n",
        "data.head()"
      ]
    },
    {
      "cell_type": "code",
      "execution_count": 5,
      "metadata": {
        "id": "FFc2Agl-6C5Q",
        "colab": {
          "base_uri": "https://localhost:8080/"
        },
        "outputId": "578bc751-8e1e-4acc-baf1-e428107cc59f"
      },
      "outputs": [
        {
          "output_type": "stream",
          "name": "stdout",
          "text": [
            "X_mean :  8.16020618556701\n",
            "Y_mean :  5.839278350515464\n"
          ]
        }
      ],
      "source": [
        "X=data.iloc[:,0].values\n",
        "Y=data.iloc[:,1].values\n",
        "X_Mean=np.mean(X)\n",
        "print('X_mean : ', X_Mean)\n",
        "Y_Mean=np.mean(Y)\n",
        "print('Y_mean : ', Y_Mean)"
      ]
    },
    {
      "cell_type": "markdown",
      "metadata": {
        "id": "_XpsUCOb6C5Z"
      },
      "source": [
        "### Variance\n",
        "* For Population\n",
        "\n",
        "\n",
        "$ \\sigma ^2 = {\\frac{1}{N}\\sum\\limits_{i = 1}^N {\\left( {x_i - \\bar x} \\right)^2 } }$\n",
        "\n",
        "\n",
        "### Standard Deviation \n",
        "\n",
        "$ s_N = \\sqrt {\\frac{1}{N}\\sum\\limits_{i = 1}^N {\\left( {x_i - \\bar x} \\right)^2 } }$\n",
        "\n",
        "* For Sample replace denominator with (N-1)\n",
        "* Standard Deviation = Square Root of Variance\n",
        "* Concept of Population and Sample ? Check yourself."
      ]
    },
    {
      "cell_type": "markdown",
      "metadata": {
        "id": "eL_-P08n6C5d"
      },
      "source": [
        "#### Calulating Variation in X"
      ]
    },
    {
      "cell_type": "code",
      "execution_count": 6,
      "metadata": {
        "colab": {
          "base_uri": "https://localhost:8080/"
        },
        "id": "XDEu4MXS6C5e",
        "outputId": "562366ff-ed78-4a17-924a-d2c78cb1dc39"
      },
      "outputs": [
        {
          "output_type": "stream",
          "name": "stdout",
          "text": [
            "14.97642079037801\n"
          ]
        }
      ],
      "source": [
        "# Using Function\n",
        "X_var=np.var(X,ddof=1) ## if ddof=0 variance for population\n",
        "print(X_var)"
      ]
    },
    {
      "cell_type": "code",
      "execution_count": 7,
      "metadata": {
        "colab": {
          "base_uri": "https://localhost:8080/"
        },
        "id": "WZsidSov6C5i",
        "outputId": "70c7a670-74bc-444c-9648-3bd344974ea3"
      },
      "outputs": [
        {
          "output_type": "execute_result",
          "data": {
            "text/plain": [
              "14.97642079037801"
            ]
          },
          "metadata": {},
          "execution_count": 7
        }
      ],
      "source": [
        "# From Scratch \n",
        "n=len(X) # Total Data points\n",
        "np.sum((X-X_Mean)**2)/(n-1) ## Sample"
      ]
    },
    {
      "cell_type": "markdown",
      "metadata": {
        "id": "-ASZZXzP6C5l"
      },
      "source": [
        "#### Calulating Variation in Y"
      ]
    },
    {
      "cell_type": "code",
      "execution_count": 8,
      "metadata": {
        "colab": {
          "base_uri": "https://localhost:8080/"
        },
        "id": "yzRulkMa6C5m",
        "outputId": "8f5c5ab6-c304-4091-a22c-3b632a3fbdb5"
      },
      "outputs": [
        {
          "output_type": "execute_result",
          "data": {
            "text/plain": [
              "30.361098432130586"
            ]
          },
          "metadata": {},
          "execution_count": 8
        }
      ],
      "source": [
        "Y_var=np.var(Y,ddof=1)\n",
        "Y_var"
      ]
    },
    {
      "cell_type": "markdown",
      "metadata": {
        "id": "jOMVXzR66C5q"
      },
      "source": [
        "#### Both can be calculated at once"
      ]
    },
    {
      "cell_type": "code",
      "execution_count": 9,
      "metadata": {
        "collapsed": true,
        "id": "C6Q8Q5V66C5n",
        "colab": {
          "base_uri": "https://localhost:8080/"
        },
        "outputId": "9b8f2027-a5a7-41dd-d90f-006d66d121d3"
      },
      "outputs": [
        {
          "output_type": "stream",
          "name": "stdout",
          "text": [
            "[[ 6.11 17.59]\n",
            " [ 5.53  9.13]\n",
            " [ 8.52 13.66]\n",
            " [ 7.   11.85]\n",
            " [ 5.86  6.82]\n",
            " [ 8.38 11.89]\n",
            " [ 7.48  4.35]\n",
            " [ 8.58 12.  ]\n",
            " [ 6.49  6.6 ]\n",
            " [ 5.05  3.82]\n",
            " [ 5.71  3.25]\n",
            " [14.16 15.51]\n",
            " [ 5.73  3.16]\n",
            " [ 8.41  7.23]\n",
            " [ 5.64  0.72]\n",
            " [ 5.38  3.51]\n",
            " [ 6.37  5.3 ]\n",
            " [ 5.13  0.56]\n",
            " [ 6.43  3.65]\n",
            " [ 7.07  5.39]\n",
            " [ 6.19  3.14]\n",
            " [20.27 21.77]\n",
            " [ 5.49  4.26]\n",
            " [ 6.33  5.19]\n",
            " [ 5.56  3.08]\n",
            " [18.95 22.64]\n",
            " [12.83 13.5 ]\n",
            " [10.96  7.05]\n",
            " [13.18 14.69]\n",
            " [22.2  24.15]\n",
            " [ 5.25 -1.22]\n",
            " [ 6.59  6.  ]\n",
            " [ 9.25 12.13]\n",
            " [ 5.89  1.85]\n",
            " [ 8.21  6.54]\n",
            " [ 7.93  4.56]\n",
            " [ 8.1   4.12]\n",
            " [ 5.61  3.39]\n",
            " [12.84 10.12]\n",
            " [ 6.35  5.5 ]\n",
            " [ 5.41  0.56]\n",
            " [ 6.88  3.91]\n",
            " [11.71  5.39]\n",
            " [ 5.77  2.44]\n",
            " [ 7.82  6.73]\n",
            " [ 7.09  1.05]\n",
            " [ 5.07  5.13]\n",
            " [ 5.8   1.84]\n",
            " [11.7   8.  ]\n",
            " [ 5.54  1.02]\n",
            " [ 7.54  6.75]\n",
            " [ 5.31  1.84]\n",
            " [ 7.42  4.29]\n",
            " [ 7.6   5.  ]\n",
            " [ 6.33  1.42]\n",
            " [ 6.36 -1.42]\n",
            " [ 6.27  2.48]\n",
            " [ 5.64  4.6 ]\n",
            " [ 9.31  3.96]\n",
            " [ 9.45  5.41]\n",
            " [ 8.83  5.17]\n",
            " [ 5.18 -0.74]\n",
            " [21.28 17.93]\n",
            " [14.91 12.05]\n",
            " [18.96 17.05]\n",
            " [ 7.22  4.89]\n",
            " [ 8.3   5.74]\n",
            " [10.24  7.78]\n",
            " [ 5.5   1.02]\n",
            " [20.34 20.99]\n",
            " [10.14  6.68]\n",
            " [ 7.33  4.03]\n",
            " [ 6.01  1.28]\n",
            " [ 7.23  3.34]\n",
            " [ 5.03 -2.68]\n",
            " [ 6.55  0.3 ]\n",
            " [ 7.54  3.88]\n",
            " [ 5.04  5.7 ]\n",
            " [10.27  6.75]\n",
            " [ 5.11  2.06]\n",
            " [ 5.73  0.48]\n",
            " [ 5.19  0.2 ]\n",
            " [ 6.36  0.68]\n",
            " [ 9.77  7.54]\n",
            " [ 6.52  5.34]\n",
            " [ 8.52  4.24]\n",
            " [ 9.18  6.8 ]\n",
            " [ 6.    0.93]\n",
            " [ 5.52  0.15]\n",
            " [ 5.06  2.82]\n",
            " [ 5.71  1.85]\n",
            " [ 7.64  4.3 ]\n",
            " [ 5.87  7.2 ]\n",
            " [ 5.31  1.99]\n",
            " [ 8.29  0.14]\n",
            " [13.39  9.06]\n",
            " [ 5.44  0.62]] \n",
            " \n",
            "Variance within each feature : \n",
            "\n"
          ]
        },
        {
          "output_type": "execute_result",
          "data": {
            "text/plain": [
              "array([14.97642079, 30.36109843])"
            ]
          },
          "metadata": {},
          "execution_count": 9
        }
      ],
      "source": [
        "# Using NumPyt\n",
        "Mat_XY=data.values\n",
        "print(Mat_XY,'\\n ')\n",
        "print('Variance within each feature : \\n')\n",
        "np.var(Mat_XY,ddof=1,axis=0)"
      ]
    },
    {
      "cell_type": "code",
      "execution_count": 10,
      "metadata": {
        "colab": {
          "base_uri": "https://localhost:8080/"
        },
        "id": "RhsoovgQ6C5r",
        "outputId": "6763b1e1-66f7-4616-9337-7a95731305ce"
      },
      "outputs": [
        {
          "output_type": "execute_result",
          "data": {
            "text/plain": [
              "Visitor_Count    14.976421\n",
              "Profit           30.361098\n",
              "dtype: float64"
            ]
          },
          "metadata": {},
          "execution_count": 10
        }
      ],
      "source": [
        "# Using Pandas\n",
        "data.var(axis=0)"
      ]
    },
    {
      "cell_type": "markdown",
      "source": [
        "#### Visualizing the data"
      ],
      "metadata": {
        "id": "n26XEX1fq2hL"
      }
    },
    {
      "cell_type": "code",
      "execution_count": 11,
      "metadata": {
        "colab": {
          "base_uri": "https://localhost:8080/",
          "height": 587
        },
        "id": "B5rr9RYA6C5s",
        "outputId": "f494bf68-c025-471c-fc39-91543871aa19"
      },
      "outputs": [
        {
          "output_type": "stream",
          "name": "stdout",
          "text": [
            "X_mean :  8.16020618556701\n",
            "Y_mean :  5.839278350515464 \n",
            "\n",
            "\n"
          ]
        },
        {
          "output_type": "execute_result",
          "data": {
            "text/plain": [
              "<matplotlib.legend.Legend at 0x7fb06b08ff90>"
            ]
          },
          "metadata": {},
          "execution_count": 11
        },
        {
          "output_type": "display_data",
          "data": {
            "text/plain": [
              "<Figure size 864x576 with 1 Axes>"
            ],
            "image/png": "[encoded data removed]"
          },
          "metadata": {
            "needs_background": "light"
          }
        }
      ],
      "source": [
        "print('X_mean : ', X_Mean)\n",
        "print('Y_mean : ', Y_Mean,'\\n\\n')\n",
        "plt.figure(figsize=(12,8))\n",
        "plt.scatter(X,Y)\n",
        "### Plotting few coordinates of data points on the Graph\n",
        "count=0\n",
        "for i_x, i_y in zip(X, Y):\n",
        "    if (count%7==0) and (count>20):\n",
        "        plt.text(i_x, i_y, '({}, {})'.format(i_x, i_y),fontsize=12,fontweight='bold')\n",
        "    count=count+1\n",
        "#############################\n",
        "plt.axvline(x=X_Mean,label='X_Mean',color='r')\n",
        "plt.axhline(y=Y_Mean,label='Y_Mean',color='g')\n",
        "plt.xlabel('Population',fontsize=12)\n",
        "plt.ylabel('Profit',fontsize=12)\n",
        "plt.legend()"
      ]
    },
    {
      "cell_type": "markdown",
      "metadata": {
        "id": "yRzaeWjB6C5t"
      },
      "source": [
        "### Covariance\n",
        "\n",
        "\n",
        "* Population:\n",
        "\n",
        "$ cov_{x,y}=\\frac{\\sum_{i=1}^{N}(x_{i}-\\bar{x})(y_{i}-\\bar{y})}{N} $\n",
        "\n",
        "\n",
        "\n",
        "\n",
        "* Sample :\n",
        "\n",
        "$ cov_{x,y}=\\frac{\\sum_{i=1}^{N}(x_{i}-\\bar{x})(y_{i}-\\bar{y})}{N-1} $\n",
        "\n",
        "\n",
        "\n"
      ]
    },
    {
      "cell_type": "code",
      "execution_count": 12,
      "metadata": {
        "id": "nedNLoOf6C5u"
      },
      "outputs": [],
      "source": [
        "## X,Y,X_Mean,Y_Mean,n,Mat_XY,data"
      ]
    },
    {
      "cell_type": "code",
      "execution_count": 13,
      "metadata": {
        "colab": {
          "base_uri": "https://localhost:8080/"
        },
        "id": "cagR67Kq6C5v",
        "outputId": "ec30fc71-295a-46fa-fe80-7b7d900197b2"
      },
      "outputs": [
        {
          "output_type": "execute_result",
          "data": {
            "text/plain": [
              "17.867684525343645"
            ]
          },
          "metadata": {},
          "execution_count": 13
        }
      ],
      "source": [
        "### From Scratch\n",
        "np.sum((X-X_Mean)*(Y-Y_Mean))/(n-1) # covariace"
      ]
    },
    {
      "cell_type": "code",
      "execution_count": 14,
      "metadata": {
        "id": "8HCpNRRX6C5w",
        "colab": {
          "base_uri": "https://localhost:8080/"
        },
        "outputId": "2eebf530-462f-47d7-980e-79f0557be9f5"
      },
      "outputs": [
        {
          "output_type": "execute_result",
          "data": {
            "text/plain": [
              "array([[ 6.11, 17.59],\n",
              "       [ 5.53,  9.13],\n",
              "       [ 8.52, 13.66],\n",
              "       [ 7.  , 11.85],\n",
              "       [ 5.86,  6.82],\n",
              "       [ 8.38, 11.89],\n",
              "       [ 7.48,  4.35],\n",
              "       [ 8.58, 12.  ],\n",
              "       [ 6.49,  6.6 ],\n",
              "       [ 5.05,  3.82],\n",
              "       [ 5.71,  3.25],\n",
              "       [14.16, 15.51],\n",
              "       [ 5.73,  3.16],\n",
              "       [ 8.41,  7.23],\n",
              "       [ 5.64,  0.72],\n",
              "       [ 5.38,  3.51],\n",
              "       [ 6.37,  5.3 ],\n",
              "       [ 5.13,  0.56],\n",
              "       [ 6.43,  3.65],\n",
              "       [ 7.07,  5.39],\n",
              "       [ 6.19,  3.14],\n",
              "       [20.27, 21.77],\n",
              "       [ 5.49,  4.26],\n",
              "       [ 6.33,  5.19],\n",
              "       [ 5.56,  3.08],\n",
              "       [18.95, 22.64],\n",
              "       [12.83, 13.5 ],\n",
              "       [10.96,  7.05],\n",
              "       [13.18, 14.69],\n",
              "       [22.2 , 24.15],\n",
              "       [ 5.25, -1.22],\n",
              "       [ 6.59,  6.  ],\n",
              "       [ 9.25, 12.13],\n",
              "       [ 5.89,  1.85],\n",
              "       [ 8.21,  6.54],\n",
              "       [ 7.93,  4.56],\n",
              "       [ 8.1 ,  4.12],\n",
              "       [ 5.61,  3.39],\n",
              "       [12.84, 10.12],\n",
              "       [ 6.35,  5.5 ],\n",
              "       [ 5.41,  0.56],\n",
              "       [ 6.88,  3.91],\n",
              "       [11.71,  5.39],\n",
              "       [ 5.77,  2.44],\n",
              "       [ 7.82,  6.73],\n",
              "       [ 7.09,  1.05],\n",
              "       [ 5.07,  5.13],\n",
              "       [ 5.8 ,  1.84],\n",
              "       [11.7 ,  8.  ],\n",
              "       [ 5.54,  1.02],\n",
              "       [ 7.54,  6.75],\n",
              "       [ 5.31,  1.84],\n",
              "       [ 7.42,  4.29],\n",
              "       [ 7.6 ,  5.  ],\n",
              "       [ 6.33,  1.42],\n",
              "       [ 6.36, -1.42],\n",
              "       [ 6.27,  2.48],\n",
              "       [ 5.64,  4.6 ],\n",
              "       [ 9.31,  3.96],\n",
              "       [ 9.45,  5.41],\n",
              "       [ 8.83,  5.17],\n",
              "       [ 5.18, -0.74],\n",
              "       [21.28, 17.93],\n",
              "       [14.91, 12.05],\n",
              "       [18.96, 17.05],\n",
              "       [ 7.22,  4.89],\n",
              "       [ 8.3 ,  5.74],\n",
              "       [10.24,  7.78],\n",
              "       [ 5.5 ,  1.02],\n",
              "       [20.34, 20.99],\n",
              "       [10.14,  6.68],\n",
              "       [ 7.33,  4.03],\n",
              "       [ 6.01,  1.28],\n",
              "       [ 7.23,  3.34],\n",
              "       [ 5.03, -2.68],\n",
              "       [ 6.55,  0.3 ],\n",
              "       [ 7.54,  3.88],\n",
              "       [ 5.04,  5.7 ],\n",
              "       [10.27,  6.75],\n",
              "       [ 5.11,  2.06],\n",
              "       [ 5.73,  0.48],\n",
              "       [ 5.19,  0.2 ],\n",
              "       [ 6.36,  0.68],\n",
              "       [ 9.77,  7.54],\n",
              "       [ 6.52,  5.34],\n",
              "       [ 8.52,  4.24],\n",
              "       [ 9.18,  6.8 ],\n",
              "       [ 6.  ,  0.93],\n",
              "       [ 5.52,  0.15],\n",
              "       [ 5.06,  2.82],\n",
              "       [ 5.71,  1.85],\n",
              "       [ 7.64,  4.3 ],\n",
              "       [ 5.87,  7.2 ],\n",
              "       [ 5.31,  1.99],\n",
              "       [ 8.29,  0.14],\n",
              "       [13.39,  9.06],\n",
              "       [ 5.44,  0.62]])"
            ]
          },
          "metadata": {},
          "execution_count": 14
        }
      ],
      "source": [
        "Mat_XY"
      ]
    },
    {
      "cell_type": "code",
      "execution_count": 15,
      "metadata": {
        "id": "kiGCOHPb6C5x",
        "colab": {
          "base_uri": "https://localhost:8080/"
        },
        "outputId": "c9049f79-43c7-41a5-e086-e31b35489cad"
      },
      "outputs": [
        {
          "output_type": "execute_result",
          "data": {
            "text/plain": [
              "array([[ 6.11,  5.53,  8.52,  7.  ,  5.86,  8.38,  7.48,  8.58,  6.49,\n",
              "         5.05,  5.71, 14.16,  5.73,  8.41,  5.64,  5.38,  6.37,  5.13,\n",
              "         6.43,  7.07,  6.19, 20.27,  5.49,  6.33,  5.56, 18.95, 12.83,\n",
              "        10.96, 13.18, 22.2 ,  5.25,  6.59,  9.25,  5.89,  8.21,  7.93,\n",
              "         8.1 ,  5.61, 12.84,  6.35,  5.41,  6.88, 11.71,  5.77,  7.82,\n",
              "         7.09,  5.07,  5.8 , 11.7 ,  5.54,  7.54,  5.31,  7.42,  7.6 ,\n",
              "         6.33,  6.36,  6.27,  5.64,  9.31,  9.45,  8.83,  5.18, 21.28,\n",
              "        14.91, 18.96,  7.22,  8.3 , 10.24,  5.5 , 20.34, 10.14,  7.33,\n",
              "         6.01,  7.23,  5.03,  6.55,  7.54,  5.04, 10.27,  5.11,  5.73,\n",
              "         5.19,  6.36,  9.77,  6.52,  8.52,  9.18,  6.  ,  5.52,  5.06,\n",
              "         5.71,  7.64,  5.87,  5.31,  8.29, 13.39,  5.44],\n",
              "       [17.59,  9.13, 13.66, 11.85,  6.82, 11.89,  4.35, 12.  ,  6.6 ,\n",
              "         3.82,  3.25, 15.51,  3.16,  7.23,  0.72,  3.51,  5.3 ,  0.56,\n",
              "         3.65,  5.39,  3.14, 21.77,  4.26,  5.19,  3.08, 22.64, 13.5 ,\n",
              "         7.05, 14.69, 24.15, -1.22,  6.  , 12.13,  1.85,  6.54,  4.56,\n",
              "         4.12,  3.39, 10.12,  5.5 ,  0.56,  3.91,  5.39,  2.44,  6.73,\n",
              "         1.05,  5.13,  1.84,  8.  ,  1.02,  6.75,  1.84,  4.29,  5.  ,\n",
              "         1.42, -1.42,  2.48,  4.6 ,  3.96,  5.41,  5.17, -0.74, 17.93,\n",
              "        12.05, 17.05,  4.89,  5.74,  7.78,  1.02, 20.99,  6.68,  4.03,\n",
              "         1.28,  3.34, -2.68,  0.3 ,  3.88,  5.7 ,  6.75,  2.06,  0.48,\n",
              "         0.2 ,  0.68,  7.54,  5.34,  4.24,  6.8 ,  0.93,  0.15,  2.82,\n",
              "         1.85,  4.3 ,  7.2 ,  1.99,  0.14,  9.06,  0.62]])"
            ]
          },
          "metadata": {},
          "execution_count": 15
        }
      ],
      "source": [
        "Mat_XY.T"
      ]
    },
    {
      "cell_type": "markdown",
      "metadata": {
        "id": "ohK-H_gN6C5y"
      },
      "source": [
        "#### Covariace Matrix"
      ]
    },
    {
      "cell_type": "code",
      "source": [
        ""
      ],
      "metadata": {
        "id": "JYi61InUorED"
      },
      "execution_count": 15,
      "outputs": []
    },
    {
      "cell_type": "code",
      "execution_count": 16,
      "metadata": {
        "colab": {
          "base_uri": "https://localhost:8080/"
        },
        "id": "tuqg7Y-m6C5y",
        "outputId": "4969c8cd-0e99-4d29-df32-6b54250f9185"
      },
      "outputs": [
        {
          "output_type": "execute_result",
          "data": {
            "text/plain": [
              "array([[14.97642079, 17.86768453],\n",
              "       [17.86768453, 30.36109843]])"
            ]
          },
          "metadata": {},
          "execution_count": 16
        }
      ],
      "source": [
        "# Using NumPy\n",
        "np.cov(Mat_XY.T) ## This function gives variance and covariance at once and this matrix is known as covariace matrix"
      ]
    },
    {
      "cell_type": "code",
      "execution_count": 17,
      "metadata": {
        "colab": {
          "base_uri": "https://localhost:8080/",
          "height": 0
        },
        "id": "ehgyJe4A6C5z",
        "outputId": "316fc37b-70fa-490f-cef7-e5ae72543d02"
      },
      "outputs": [
        {
          "output_type": "execute_result",
          "data": {
            "text/plain": [
              "               Visitor_Count     Profit\n",
              "Visitor_Count      14.976421  17.867685\n",
              "Profit             17.867685  30.361098"
            ],
            "text/html": [
              "\n",
              "  <div id=\"df-f7dedcef-163b-400b-80b5-a61e35d2666e\">\n",
              "    <div class=\"colab-df-container\">\n",
              "      <div>\n",
              "<style scoped>\n",
              "    .dataframe tbody tr th:only-of-type {\n",
              "        vertical-align: middle;\n",
              "    }\n",
              "\n",
              "    .dataframe tbody tr th {\n",
              "        vertical-align: top;\n",
              "    }\n",
              "\n",
              "    .dataframe thead th {\n",
              "        text-align: right;\n",
              "    }\n",
              "</style>\n",
              "<table border=\"1\" class=\"dataframe\">\n",
              "  <thead>\n",
              "    <tr style=\"text-align: right;\">\n",
              "      <th></th>\n",
              "      <th>Visitor_Count</th>\n",
              "      <th>Profit</th>\n",
              "    </tr>\n",
              "  </thead>\n",
              "  <tbody>\n",
              "    <tr>\n",
              "      <th>Visitor_Count</th>\n",
              "      <td>14.976421</td>\n",
              "      <td>17.867685</td>\n",
              "    </tr>\n",
              "    <tr>\n",
              "      <th>Profit</th>\n",
              "      <td>17.867685</td>\n",
              "      <td>30.361098</td>\n",
              "    </tr>\n",
              "  </tbody>\n",
              "</table>\n",
              "</div>\n",
              "      <button class=\"colab-df-convert\" onclick=\"convertToInteractive('df-f7dedcef-163b-400b-80b5-a61e35d2666e')\"\n",
              "              title=\"Convert this dataframe to an interactive table.\"\n",
              "              style=\"display:none;\">\n",
              "        \n",
              "  <svg xmlns=\"http://www.w3.org/2000/svg\" height=\"24px\"viewBox=\"0 0 24 24\"\n",
              "       width=\"24px\">\n",
              "    <path d=\"M0 0h24v24H0V0z\" fill=\"none\"/>\n",
              "    <path d=\"M18.56 5.44l.94 2.06.94-2.06 2.06-.94-2.06-.94-.94-2.06-.94 2.06-2.06.94zm-11 1L8.5 8.5l.94-2.06 2.06-.94-2.06-.94L8.5 2.5l-.94 2.06-2.06.94zm10 10l.94 2.06.94-2.06 2.06-.94-2.06-.94-.94-2.06-.94 2.06-2.06.94z\"/><path d=\"M17.41 7.96l-1.37-1.37c-.4-.4-.92-.59-1.43-.59-.52 0-1.04.2-1.43.59L10.3 9.45l-7.72 7.72c-.78.78-.78 2.05 0 2.83L4 21.41c.39.39.9.59 1.41.59.51 0 1.02-.2 1.41-.59l7.78-7.78 2.81-2.81c.8-.78.8-2.07 0-2.86zM5.41 20L4 18.59l7.72-7.72 1.47 1.35L5.41 20z\"/>\n",
              "  </svg>\n",
              "      </button>\n",
              "      \n",
              "  <style>\n",
              "    .colab-df-container {\n",
              "      display:flex;\n",
              "      flex-wrap:wrap;\n",
              "      gap: 12px;\n",
              "    }\n",
              "\n",
              "    .colab-df-convert {\n",
              "      background-color: #E8F0FE;\n",
              "      border: none;\n",
              "      border-radius: 50%;\n",
              "      cursor: pointer;\n",
              "      display: none;\n",
              "      fill: #1967D2;\n",
              "      height: 32px;\n",
              "      padding: 0 0 0 0;\n",
              "      width: 32px;\n",
              "    }\n",
              "\n",
              "    .colab-df-convert:hover {\n",
              "      background-color: #E2EBFA;\n",
              "      box-shadow: 0px 1px 2px rgba(60, 64, 67, 0.3), 0px 1px 3px 1px rgba(60, 64, 67, 0.15);\n",
              "      fill: #174EA6;\n",
              "    }\n",
              "\n",
              "    [theme=dark] .colab-df-convert {\n",
              "      background-color: #3B4455;\n",
              "      fill: #D2E3FC;\n",
              "    }\n",
              "\n",
              "    [theme=dark] .colab-df-convert:hover {\n",
              "      background-color: #434B5C;\n",
              "      box-shadow: 0px 1px 3px 1px rgba(0, 0, 0, 0.15);\n",
              "      filter: drop-shadow(0px 1px 2px rgba(0, 0, 0, 0.3));\n",
              "      fill: #FFFFFF;\n",
              "    }\n",
              "  </style>\n",
              "\n",
              "      <script>\n",
              "        const buttonEl =\n",
              "          document.querySelector('#df-f7dedcef-163b-400b-80b5-a61e35d2666e button.colab-df-convert');\n",
              "        buttonEl.style.display =\n",
              "          google.colab.kernel.accessAllowed ? 'block' : 'none';\n",
              "\n",
              "        async function convertToInteractive(key) {\n",
              "          const element = document.querySelector('#df-f7dedcef-163b-400b-80b5-a61e35d2666e');\n",
              "          const dataTable =\n",
              "            await google.colab.kernel.invokeFunction('convertToInteractive',\n",
              "                                                     [key], {});\n",
              "          if (!dataTable) return;\n",
              "\n",
              "          const docLinkHtml = 'Like what you see? Visit the ' +\n",
              "            '<a target=\"_blank\" href=https://colab.research.google.com/notebooks/data_table.ipynb>data table notebook</a>'\n",
              "            + ' to learn more about interactive tables.';\n",
              "          element.innerHTML = '';\n",
              "          dataTable['output_type'] = 'display_data';\n",
              "          await google.colab.output.renderOutput(dataTable, element);\n",
              "          const docLink = document.createElement('div');\n",
              "          docLink.innerHTML = docLinkHtml;\n",
              "          element.appendChild(docLink);\n",
              "        }\n",
              "      </script>\n",
              "    </div>\n",
              "  </div>\n",
              "  "
            ]
          },
          "metadata": {},
          "execution_count": 17
        }
      ],
      "source": [
        "# Using Pandas\n",
        "data.cov()  ## Based on N-1"
      ]
    },
    {
      "cell_type": "markdown",
      "metadata": {
        "id": "MlKdVUkg6C50"
      },
      "source": [
        "https://numpy.org/doc/stable/reference/generated/numpy.cov.html"
      ]
    },
    {
      "cell_type": "markdown",
      "metadata": {
        "id": "Ri_ZlGRw6C51"
      },
      "source": [
        "#### Note\n",
        "* Main diagonal gives variation within the feture and remaining entries gives the covariance of corresponding two features."
      ]
    },
    {
      "cell_type": "markdown",
      "metadata": {
        "id": "qBVUU3Oe6C52"
      },
      "source": [
        "## Correlation_Coefficient\n",
        "\n",
        "$ corr_{x,y} = \\frac{ cov_{x,y} }{ std(x) * std(y)} $"
      ]
    },
    {
      "cell_type": "code",
      "execution_count": 18,
      "metadata": {
        "colab": {
          "base_uri": "https://localhost:8080/"
        },
        "id": "GYxq4OLH6C54",
        "outputId": "64c44e0b-a34c-4f8b-c466-454774a9569b"
      },
      "outputs": [
        {
          "output_type": "stream",
          "name": "stdout",
          "text": [
            "Covariance between X and Y :  17.867684525343645\n",
            "Correlation or Correlation Coefficient between X and Y :  0.8466541086693568\n"
          ]
        }
      ],
      "source": [
        "cov=np.sum((X-X_Mean)*(Y-Y_Mean))/(n-1)\n",
        "print('Covariance between X and Y : ', cov)\n",
        "corr=cov/(np.std(X)*np.std(Y))\n",
        "print('Correlation or Correlation Coefficient between X and Y : ',corr) # Pearson Correlation Coefficient"
      ]
    },
    {
      "cell_type": "code",
      "source": [
        "data.values"
      ],
      "metadata": {
        "id": "lw30pVgEonr9",
        "colab": {
          "base_uri": "https://localhost:8080/"
        },
        "outputId": "94885c36-9282-454d-bb7a-1d5fc10ecf9f"
      },
      "execution_count": 19,
      "outputs": [
        {
          "output_type": "execute_result",
          "data": {
            "text/plain": [
              "array([[ 6.11, 17.59],\n",
              "       [ 5.53,  9.13],\n",
              "       [ 8.52, 13.66],\n",
              "       [ 7.  , 11.85],\n",
              "       [ 5.86,  6.82],\n",
              "       [ 8.38, 11.89],\n",
              "       [ 7.48,  4.35],\n",
              "       [ 8.58, 12.  ],\n",
              "       [ 6.49,  6.6 ],\n",
              "       [ 5.05,  3.82],\n",
              "       [ 5.71,  3.25],\n",
              "       [14.16, 15.51],\n",
              "       [ 5.73,  3.16],\n",
              "       [ 8.41,  7.23],\n",
              "       [ 5.64,  0.72],\n",
              "       [ 5.38,  3.51],\n",
              "       [ 6.37,  5.3 ],\n",
              "       [ 5.13,  0.56],\n",
              "       [ 6.43,  3.65],\n",
              "       [ 7.07,  5.39],\n",
              "       [ 6.19,  3.14],\n",
              "       [20.27, 21.77],\n",
              "       [ 5.49,  4.26],\n",
              "       [ 6.33,  5.19],\n",
              "       [ 5.56,  3.08],\n",
              "       [18.95, 22.64],\n",
              "       [12.83, 13.5 ],\n",
              "       [10.96,  7.05],\n",
              "       [13.18, 14.69],\n",
              "       [22.2 , 24.15],\n",
              "       [ 5.25, -1.22],\n",
              "       [ 6.59,  6.  ],\n",
              "       [ 9.25, 12.13],\n",
              "       [ 5.89,  1.85],\n",
              "       [ 8.21,  6.54],\n",
              "       [ 7.93,  4.56],\n",
              "       [ 8.1 ,  4.12],\n",
              "       [ 5.61,  3.39],\n",
              "       [12.84, 10.12],\n",
              "       [ 6.35,  5.5 ],\n",
              "       [ 5.41,  0.56],\n",
              "       [ 6.88,  3.91],\n",
              "       [11.71,  5.39],\n",
              "       [ 5.77,  2.44],\n",
              "       [ 7.82,  6.73],\n",
              "       [ 7.09,  1.05],\n",
              "       [ 5.07,  5.13],\n",
              "       [ 5.8 ,  1.84],\n",
              "       [11.7 ,  8.  ],\n",
              "       [ 5.54,  1.02],\n",
              "       [ 7.54,  6.75],\n",
              "       [ 5.31,  1.84],\n",
              "       [ 7.42,  4.29],\n",
              "       [ 7.6 ,  5.  ],\n",
              "       [ 6.33,  1.42],\n",
              "       [ 6.36, -1.42],\n",
              "       [ 6.27,  2.48],\n",
              "       [ 5.64,  4.6 ],\n",
              "       [ 9.31,  3.96],\n",
              "       [ 9.45,  5.41],\n",
              "       [ 8.83,  5.17],\n",
              "       [ 5.18, -0.74],\n",
              "       [21.28, 17.93],\n",
              "       [14.91, 12.05],\n",
              "       [18.96, 17.05],\n",
              "       [ 7.22,  4.89],\n",
              "       [ 8.3 ,  5.74],\n",
              "       [10.24,  7.78],\n",
              "       [ 5.5 ,  1.02],\n",
              "       [20.34, 20.99],\n",
              "       [10.14,  6.68],\n",
              "       [ 7.33,  4.03],\n",
              "       [ 6.01,  1.28],\n",
              "       [ 7.23,  3.34],\n",
              "       [ 5.03, -2.68],\n",
              "       [ 6.55,  0.3 ],\n",
              "       [ 7.54,  3.88],\n",
              "       [ 5.04,  5.7 ],\n",
              "       [10.27,  6.75],\n",
              "       [ 5.11,  2.06],\n",
              "       [ 5.73,  0.48],\n",
              "       [ 5.19,  0.2 ],\n",
              "       [ 6.36,  0.68],\n",
              "       [ 9.77,  7.54],\n",
              "       [ 6.52,  5.34],\n",
              "       [ 8.52,  4.24],\n",
              "       [ 9.18,  6.8 ],\n",
              "       [ 6.  ,  0.93],\n",
              "       [ 5.52,  0.15],\n",
              "       [ 5.06,  2.82],\n",
              "       [ 5.71,  1.85],\n",
              "       [ 7.64,  4.3 ],\n",
              "       [ 5.87,  7.2 ],\n",
              "       [ 5.31,  1.99],\n",
              "       [ 8.29,  0.14],\n",
              "       [13.39,  9.06],\n",
              "       [ 5.44,  0.62]])"
            ]
          },
          "metadata": {},
          "execution_count": 19
        }
      ]
    },
    {
      "cell_type": "code",
      "source": [
        "## Directly using NumPy Function\n",
        "arr=data.values\n",
        "np.corrcoef(arr.T)"
      ],
      "metadata": {
        "colab": {
          "base_uri": "https://localhost:8080/"
        },
        "id": "NGIF82eHnCvn",
        "outputId": "0fe8f2a7-7ab9-4c5e-e6c5-4744d538f2d0"
      },
      "execution_count": 20,
      "outputs": [
        {
          "output_type": "execute_result",
          "data": {
            "text/plain": [
              "array([[1.        , 0.83792572],\n",
              "       [0.83792572, 1.        ]])"
            ]
          },
          "metadata": {},
          "execution_count": 20
        }
      ]
    },
    {
      "cell_type": "code",
      "source": [
        "## Directly using Pandas Function\n",
        "data.corr()"
      ],
      "metadata": {
        "colab": {
          "base_uri": "https://localhost:8080/",
          "height": 0
        },
        "id": "WAYV2LOinrcL",
        "outputId": "d31b5ec4-d6a6-43ce-d154-128be15faa05"
      },
      "execution_count": 21,
      "outputs": [
        {
          "output_type": "execute_result",
          "data": {
            "text/plain": [
              "               Visitor_Count    Profit\n",
              "Visitor_Count       1.000000  0.837926\n",
              "Profit              0.837926  1.000000"
            ],
            "text/html": [
              "\n",
              "  <div id=\"df-145abf75-58b6-433f-abc2-bad6ed788890\">\n",
              "    <div class=\"colab-df-container\">\n",
              "      <div>\n",
              "<style scoped>\n",
              "    .dataframe tbody tr th:only-of-type {\n",
              "        vertical-align: middle;\n",
              "    }\n",
              "\n",
              "    .dataframe tbody tr th {\n",
              "        vertical-align: top;\n",
              "    }\n",
              "\n",
              "    .dataframe thead th {\n",
              "        text-align: right;\n",
              "    }\n",
              "</style>\n",
              "<table border=\"1\" class=\"dataframe\">\n",
              "  <thead>\n",
              "    <tr style=\"text-align: right;\">\n",
              "      <th></th>\n",
              "      <th>Visitor_Count</th>\n",
              "      <th>Profit</th>\n",
              "    </tr>\n",
              "  </thead>\n",
              "  <tbody>\n",
              "    <tr>\n",
              "      <th>Visitor_Count</th>\n",
              "      <td>1.000000</td>\n",
              "      <td>0.837926</td>\n",
              "    </tr>\n",
              "    <tr>\n",
              "      <th>Profit</th>\n",
              "      <td>0.837926</td>\n",
              "      <td>1.000000</td>\n",
              "    </tr>\n",
              "  </tbody>\n",
              "</table>\n",
              "</div>\n",
              "      <button class=\"colab-df-convert\" onclick=\"convertToInteractive('df-145abf75-58b6-433f-abc2-bad6ed788890')\"\n",
              "              title=\"Convert this dataframe to an interactive table.\"\n",
              "              style=\"display:none;\">\n",
              "        \n",
              "  <svg xmlns=\"http://www.w3.org/2000/svg\" height=\"24px\"viewBox=\"0 0 24 24\"\n",
              "       width=\"24px\">\n",
              "    <path d=\"M0 0h24v24H0V0z\" fill=\"none\"/>\n",
              "    <path d=\"M18.56 5.44l.94 2.06.94-2.06 2.06-.94-2.06-.94-.94-2.06-.94 2.06-2.06.94zm-11 1L8.5 8.5l.94-2.06 2.06-.94-2.06-.94L8.5 2.5l-.94 2.06-2.06.94zm10 10l.94 2.06.94-2.06 2.06-.94-2.06-.94-.94-2.06-.94 2.06-2.06.94z\"/><path d=\"M17.41 7.96l-1.37-1.37c-.4-.4-.92-.59-1.43-.59-.52 0-1.04.2-1.43.59L10.3 9.45l-7.72 7.72c-.78.78-.78 2.05 0 2.83L4 21.41c.39.39.9.59 1.41.59.51 0 1.02-.2 1.41-.59l7.78-7.78 2.81-2.81c.8-.78.8-2.07 0-2.86zM5.41 20L4 18.59l7.72-7.72 1.47 1.35L5.41 20z\"/>\n",
              "  </svg>\n",
              "      </button>\n",
              "      \n",
              "  <style>\n",
              "    .colab-df-container {\n",
              "      display:flex;\n",
              "      flex-wrap:wrap;\n",
              "      gap: 12px;\n",
              "    }\n",
              "\n",
              "    .colab-df-convert {\n",
              "      background-color: #E8F0FE;\n",
              "      border: none;\n",
              "      border-radius: 50%;\n",
              "      cursor: pointer;\n",
              "      display: none;\n",
              "      fill: #1967D2;\n",
              "      height: 32px;\n",
              "      padding: 0 0 0 0;\n",
              "      width: 32px;\n",
              "    }\n",
              "\n",
              "    .colab-df-convert:hover {\n",
              "      background-color: #E2EBFA;\n",
              "      box-shadow: 0px 1px 2px rgba(60, 64, 67, 0.3), 0px 1px 3px 1px rgba(60, 64, 67, 0.15);\n",
              "      fill: #174EA6;\n",
              "    }\n",
              "\n",
              "    [theme=dark] .colab-df-convert {\n",
              "      background-color: #3B4455;\n",
              "      fill: #D2E3FC;\n",
              "    }\n",
              "\n",
              "    [theme=dark] .colab-df-convert:hover {\n",
              "      background-color: #434B5C;\n",
              "      box-shadow: 0px 1px 3px 1px rgba(0, 0, 0, 0.15);\n",
              "      filter: drop-shadow(0px 1px 2px rgba(0, 0, 0, 0.3));\n",
              "      fill: #FFFFFF;\n",
              "    }\n",
              "  </style>\n",
              "\n",
              "      <script>\n",
              "        const buttonEl =\n",
              "          document.querySelector('#df-145abf75-58b6-433f-abc2-bad6ed788890 button.colab-df-convert');\n",
              "        buttonEl.style.display =\n",
              "          google.colab.kernel.accessAllowed ? 'block' : 'none';\n",
              "\n",
              "        async function convertToInteractive(key) {\n",
              "          const element = document.querySelector('#df-145abf75-58b6-433f-abc2-bad6ed788890');\n",
              "          const dataTable =\n",
              "            await google.colab.kernel.invokeFunction('convertToInteractive',\n",
              "                                                     [key], {});\n",
              "          if (!dataTable) return;\n",
              "\n",
              "          const docLinkHtml = 'Like what you see? Visit the ' +\n",
              "            '<a target=\"_blank\" href=https://colab.research.google.com/notebooks/data_table.ipynb>data table notebook</a>'\n",
              "            + ' to learn more about interactive tables.';\n",
              "          element.innerHTML = '';\n",
              "          dataTable['output_type'] = 'display_data';\n",
              "          await google.colab.output.renderOutput(dataTable, element);\n",
              "          const docLink = document.createElement('div');\n",
              "          docLink.innerHTML = docLinkHtml;\n",
              "          element.appendChild(docLink);\n",
              "        }\n",
              "      </script>\n",
              "    </div>\n",
              "  </div>\n",
              "  "
            ]
          },
          "metadata": {},
          "execution_count": 21
        }
      ]
    },
    {
      "cell_type": "markdown",
      "metadata": {
        "id": "0Zc2iu8O6C55"
      },
      "source": [
        "## Coefficient of Determination \n",
        "* Performing Regression on X and Y"
      ]
    },
    {
      "cell_type": "code",
      "execution_count": 22,
      "metadata": {
        "id": "P4cdvtEu6C56"
      },
      "outputs": [],
      "source": [
        "from sklearn.linear_model import LinearRegression as lr\n",
        "reg = lr()"
      ]
    },
    {
      "cell_type": "code",
      "execution_count": 23,
      "metadata": {
        "collapsed": true,
        "colab": {
          "base_uri": "https://localhost:8080/"
        },
        "id": "L9Oq8VWd6C58",
        "outputId": "435804bc-9efe-40e6-94d6-dea2ab942073"
      },
      "outputs": [
        {
          "output_type": "stream",
          "name": "stdout",
          "text": [
            "[ 6.11  5.53  8.52  7.    5.86  8.38  7.48  8.58  6.49  5.05  5.71 14.16\n",
            "  5.73  8.41  5.64  5.38  6.37  5.13  6.43  7.07  6.19 20.27  5.49  6.33\n",
            "  5.56 18.95 12.83 10.96 13.18 22.2   5.25  6.59  9.25  5.89  8.21  7.93\n",
            "  8.1   5.61 12.84  6.35  5.41  6.88 11.71  5.77  7.82  7.09  5.07  5.8\n",
            " 11.7   5.54  7.54  5.31  7.42  7.6   6.33  6.36  6.27  5.64  9.31  9.45\n",
            "  8.83  5.18 21.28 14.91 18.96  7.22  8.3  10.24  5.5  20.34 10.14  7.33\n",
            "  6.01  7.23  5.03  6.55  7.54  5.04 10.27  5.11  5.73  5.19  6.36  9.77\n",
            "  6.52  8.52  9.18  6.    5.52  5.06  5.71  7.64  5.87  5.31  8.29 13.39\n",
            "  5.44]\n",
            "[17.59  9.13 13.66 11.85  6.82 11.89  4.35 12.    6.6   3.82  3.25 15.51\n",
            "  3.16  7.23  0.72  3.51  5.3   0.56  3.65  5.39  3.14 21.77  4.26  5.19\n",
            "  3.08 22.64 13.5   7.05 14.69 24.15 -1.22  6.   12.13  1.85  6.54  4.56\n",
            "  4.12  3.39 10.12  5.5   0.56  3.91  5.39  2.44  6.73  1.05  5.13  1.84\n",
            "  8.    1.02  6.75  1.84  4.29  5.    1.42 -1.42  2.48  4.6   3.96  5.41\n",
            "  5.17 -0.74 17.93 12.05 17.05  4.89  5.74  7.78  1.02 20.99  6.68  4.03\n",
            "  1.28  3.34 -2.68  0.3   3.88  5.7   6.75  2.06  0.48  0.2   0.68  7.54\n",
            "  5.34  4.24  6.8   0.93  0.15  2.82  1.85  4.3   7.2   1.99  0.14  9.06\n",
            "  0.62]\n"
          ]
        }
      ],
      "source": [
        "print(X)\n",
        "print(Y)"
      ]
    },
    {
      "cell_type": "code",
      "source": [
        "X.shape"
      ],
      "metadata": {
        "colab": {
          "base_uri": "https://localhost:8080/"
        },
        "id": "XKu3VyGWpaw_",
        "outputId": "fe8d4178-89c0-48f2-9101-9c1fe4b13b8c"
      },
      "execution_count": 24,
      "outputs": [
        {
          "output_type": "execute_result",
          "data": {
            "text/plain": [
              "(97,)"
            ]
          },
          "metadata": {},
          "execution_count": 24
        }
      ]
    },
    {
      "cell_type": "code",
      "source": [
        "X.reshape(97,1)"
      ],
      "metadata": {
        "id": "aUbsV8m-qRt4",
        "colab": {
          "base_uri": "https://localhost:8080/"
        },
        "outputId": "9a506af3-76a6-4975-b098-ace0ed82bdc4"
      },
      "execution_count": 25,
      "outputs": [
        {
          "output_type": "execute_result",
          "data": {
            "text/plain": [
              "array([[ 6.11],\n",
              "       [ 5.53],\n",
              "       [ 8.52],\n",
              "       [ 7.  ],\n",
              "       [ 5.86],\n",
              "       [ 8.38],\n",
              "       [ 7.48],\n",
              "       [ 8.58],\n",
              "       [ 6.49],\n",
              "       [ 5.05],\n",
              "       [ 5.71],\n",
              "       [14.16],\n",
              "       [ 5.73],\n",
              "       [ 8.41],\n",
              "       [ 5.64],\n",
              "       [ 5.38],\n",
              "       [ 6.37],\n",
              "       [ 5.13],\n",
              "       [ 6.43],\n",
              "       [ 7.07],\n",
              "       [ 6.19],\n",
              "       [20.27],\n",
              "       [ 5.49],\n",
              "       [ 6.33],\n",
              "       [ 5.56],\n",
              "       [18.95],\n",
              "       [12.83],\n",
              "       [10.96],\n",
              "       [13.18],\n",
              "       [22.2 ],\n",
              "       [ 5.25],\n",
              "       [ 6.59],\n",
              "       [ 9.25],\n",
              "       [ 5.89],\n",
              "       [ 8.21],\n",
              "       [ 7.93],\n",
              "       [ 8.1 ],\n",
              "       [ 5.61],\n",
              "       [12.84],\n",
              "       [ 6.35],\n",
              "       [ 5.41],\n",
              "       [ 6.88],\n",
              "       [11.71],\n",
              "       [ 5.77],\n",
              "       [ 7.82],\n",
              "       [ 7.09],\n",
              "       [ 5.07],\n",
              "       [ 5.8 ],\n",
              "       [11.7 ],\n",
              "       [ 5.54],\n",
              "       [ 7.54],\n",
              "       [ 5.31],\n",
              "       [ 7.42],\n",
              "       [ 7.6 ],\n",
              "       [ 6.33],\n",
              "       [ 6.36],\n",
              "       [ 6.27],\n",
              "       [ 5.64],\n",
              "       [ 9.31],\n",
              "       [ 9.45],\n",
              "       [ 8.83],\n",
              "       [ 5.18],\n",
              "       [21.28],\n",
              "       [14.91],\n",
              "       [18.96],\n",
              "       [ 7.22],\n",
              "       [ 8.3 ],\n",
              "       [10.24],\n",
              "       [ 5.5 ],\n",
              "       [20.34],\n",
              "       [10.14],\n",
              "       [ 7.33],\n",
              "       [ 6.01],\n",
              "       [ 7.23],\n",
              "       [ 5.03],\n",
              "       [ 6.55],\n",
              "       [ 7.54],\n",
              "       [ 5.04],\n",
              "       [10.27],\n",
              "       [ 5.11],\n",
              "       [ 5.73],\n",
              "       [ 5.19],\n",
              "       [ 6.36],\n",
              "       [ 9.77],\n",
              "       [ 6.52],\n",
              "       [ 8.52],\n",
              "       [ 9.18],\n",
              "       [ 6.  ],\n",
              "       [ 5.52],\n",
              "       [ 5.06],\n",
              "       [ 5.71],\n",
              "       [ 7.64],\n",
              "       [ 5.87],\n",
              "       [ 5.31],\n",
              "       [ 8.29],\n",
              "       [13.39],\n",
              "       [ 5.44]])"
            ]
          },
          "metadata": {},
          "execution_count": 25
        }
      ]
    },
    {
      "cell_type": "code",
      "source": [
        "X[:,np.newaxis]#.shape"
      ],
      "metadata": {
        "id": "JO9AHiROptTA",
        "colab": {
          "base_uri": "https://localhost:8080/"
        },
        "outputId": "0f09324f-6900-42aa-ce55-97a476506a65"
      },
      "execution_count": 26,
      "outputs": [
        {
          "output_type": "execute_result",
          "data": {
            "text/plain": [
              "array([[ 6.11],\n",
              "       [ 5.53],\n",
              "       [ 8.52],\n",
              "       [ 7.  ],\n",
              "       [ 5.86],\n",
              "       [ 8.38],\n",
              "       [ 7.48],\n",
              "       [ 8.58],\n",
              "       [ 6.49],\n",
              "       [ 5.05],\n",
              "       [ 5.71],\n",
              "       [14.16],\n",
              "       [ 5.73],\n",
              "       [ 8.41],\n",
              "       [ 5.64],\n",
              "       [ 5.38],\n",
              "       [ 6.37],\n",
              "       [ 5.13],\n",
              "       [ 6.43],\n",
              "       [ 7.07],\n",
              "       [ 6.19],\n",
              "       [20.27],\n",
              "       [ 5.49],\n",
              "       [ 6.33],\n",
              "       [ 5.56],\n",
              "       [18.95],\n",
              "       [12.83],\n",
              "       [10.96],\n",
              "       [13.18],\n",
              "       [22.2 ],\n",
              "       [ 5.25],\n",
              "       [ 6.59],\n",
              "       [ 9.25],\n",
              "       [ 5.89],\n",
              "       [ 8.21],\n",
              "       [ 7.93],\n",
              "       [ 8.1 ],\n",
              "       [ 5.61],\n",
              "       [12.84],\n",
              "       [ 6.35],\n",
              "       [ 5.41],\n",
              "       [ 6.88],\n",
              "       [11.71],\n",
              "       [ 5.77],\n",
              "       [ 7.82],\n",
              "       [ 7.09],\n",
              "       [ 5.07],\n",
              "       [ 5.8 ],\n",
              "       [11.7 ],\n",
              "       [ 5.54],\n",
              "       [ 7.54],\n",
              "       [ 5.31],\n",
              "       [ 7.42],\n",
              "       [ 7.6 ],\n",
              "       [ 6.33],\n",
              "       [ 6.36],\n",
              "       [ 6.27],\n",
              "       [ 5.64],\n",
              "       [ 9.31],\n",
              "       [ 9.45],\n",
              "       [ 8.83],\n",
              "       [ 5.18],\n",
              "       [21.28],\n",
              "       [14.91],\n",
              "       [18.96],\n",
              "       [ 7.22],\n",
              "       [ 8.3 ],\n",
              "       [10.24],\n",
              "       [ 5.5 ],\n",
              "       [20.34],\n",
              "       [10.14],\n",
              "       [ 7.33],\n",
              "       [ 6.01],\n",
              "       [ 7.23],\n",
              "       [ 5.03],\n",
              "       [ 6.55],\n",
              "       [ 7.54],\n",
              "       [ 5.04],\n",
              "       [10.27],\n",
              "       [ 5.11],\n",
              "       [ 5.73],\n",
              "       [ 5.19],\n",
              "       [ 6.36],\n",
              "       [ 9.77],\n",
              "       [ 6.52],\n",
              "       [ 8.52],\n",
              "       [ 9.18],\n",
              "       [ 6.  ],\n",
              "       [ 5.52],\n",
              "       [ 5.06],\n",
              "       [ 5.71],\n",
              "       [ 7.64],\n",
              "       [ 5.87],\n",
              "       [ 5.31],\n",
              "       [ 8.29],\n",
              "       [13.39],\n",
              "       [ 5.44]])"
            ]
          },
          "metadata": {},
          "execution_count": 26
        }
      ]
    },
    {
      "cell_type": "code",
      "source": [
        "Y.shape"
      ],
      "metadata": {
        "colab": {
          "base_uri": "https://localhost:8080/"
        },
        "id": "zHRd1W8XpeMx",
        "outputId": "9aaaab4a-2dec-41dc-b310-2a6255facc45"
      },
      "execution_count": 27,
      "outputs": [
        {
          "output_type": "execute_result",
          "data": {
            "text/plain": [
              "(97,)"
            ]
          },
          "metadata": {},
          "execution_count": 27
        }
      ]
    },
    {
      "cell_type": "code",
      "execution_count": 28,
      "metadata": {
        "colab": {
          "base_uri": "https://localhost:8080/"
        },
        "id": "Pig6d9KJ6C5-",
        "outputId": "690de902-631c-4c2c-a2a1-600e2b848280"
      },
      "outputs": [
        {
          "output_type": "execute_result",
          "data": {
            "text/plain": [
              "0.702119505193038"
            ]
          },
          "metadata": {},
          "execution_count": 28
        }
      ],
      "source": [
        "reg.fit(X[:,np.newaxis], Y) # Creating model\n",
        "Y_pred=reg.predict(X[:,np.newaxis]) # Predicting Y for all X(train data)\n",
        "# Calculating Accuracy score\n",
        "reg.score(X[:,np.newaxis],Y)  # coefficient of determination R^2 of the prediction."
      ]
    },
    {
      "cell_type": "markdown",
      "source": [
        "X, Y--> Target\n",
        "\n",
        "Yp--> for each X"
      ],
      "metadata": {
        "id": "C7QDFl7Bqy6Y"
      }
    },
    {
      "cell_type": "code",
      "source": [
        ""
      ],
      "metadata": {
        "id": "9qi73WYyqyBq"
      },
      "execution_count": 28,
      "outputs": []
    },
    {
      "cell_type": "code",
      "execution_count": 29,
      "metadata": {
        "id": "T1Z_T4WG6C6A"
      },
      "outputs": [],
      "source": [
        "# Already calculated mean \n",
        "# X_Mean=np.mean(X)\n",
        "# Y_Mean=np.mean(Y)"
      ]
    },
    {
      "cell_type": "code",
      "execution_count": 30,
      "metadata": {
        "colab": {
          "base_uri": "https://localhost:8080/",
          "height": 514
        },
        "id": "Jv2udG0r6C6B",
        "outputId": "50a4aa64-5c19-4778-e0b0-062cdd34d50f"
      },
      "outputs": [
        {
          "output_type": "execute_result",
          "data": {
            "text/plain": [
              "<matplotlib.legend.Legend at 0x7fb06b0ddd10>"
            ]
          },
          "metadata": {},
          "execution_count": 30
        },
        {
          "output_type": "display_data",
          "data": {
            "text/plain": [
              "<Figure size 864x576 with 1 Axes>"
            ],
            "image/png": "[encoded data removed]"
          },
          "metadata": {
            "needs_background": "light"
          }
        }
      ],
      "source": [
        "plt.figure(figsize=(12,8))\n",
        "plt.scatter(X,Y)\n",
        "plt.plot(X,Y_pred,'ro-',label='Y_Pred')\n",
        "### Plotting few coordinates of data points on the Graph\n",
        "count=0\n",
        "for i_x, i_y in zip(X, Y):\n",
        "    if (count%7==0) and (count>20):\n",
        "        plt.text(i_x, i_y, '({}, {})'.format(i_x, i_y),fontsize=12,fontweight='bold')\n",
        "    count=count+1\n",
        "#############################\n",
        "#plt.axvline(x=X_Mean,label='X_Mean',color='k') ## Removing the mean of X\n",
        "plt.axhline(y=Y_Mean,label='y_Mean',color='g')\n",
        "plt.xlabel('Population')\n",
        "plt.ylabel('Profit')\n",
        "plt.legend()"
      ]
    },
    {
      "cell_type": "code",
      "source": [
        "## Checking by predicting few individual 'X'\n",
        "Yp1=reg.predict(np.array ([[14.91]]))\n",
        "Yp1"
      ],
      "metadata": {
        "colab": {
          "base_uri": "https://localhost:8080/"
        },
        "id": "NG6K7mlGt9Cl",
        "outputId": "9668dc2d-db01-4172-cf76-856234948775"
      },
      "execution_count": 31,
      "outputs": [
        {
          "output_type": "execute_result",
          "data": {
            "text/plain": [
              "array([13.89214947])"
            ]
          },
          "metadata": {},
          "execution_count": 31
        }
      ]
    },
    {
      "cell_type": "code",
      "execution_count": 32,
      "metadata": {
        "id": "A2oPzg346C6D"
      },
      "outputs": [],
      "source": [
        "# There is 70 % less variation around the predicted line than the mean line.\n",
        "# OR Population/Profit relationship accounts for 70 % varition in data."
      ]
    },
    {
      "cell_type": "markdown",
      "metadata": {
        "id": "2Va1xjWb6C6D"
      },
      "source": [
        "## Coefficient of Determination R2"
      ]
    },
    {
      "cell_type": "markdown",
      "metadata": {
        "id": "Xd0OqI7b6C6E"
      },
      "source": [
        "\n",
        "\n",
        "![](https://drive.google.com/uc?export=view&id=15PJKLeCYQ72NC237HxTl-3drRiCAWv0H)\n",
        "\n"
      ]
    },
    {
      "cell_type": "markdown",
      "metadata": {
        "id": "CgpaipSd6C6F"
      },
      "source": [
        "#####  Where,  \n",
        "     yi --> Given y (Targets)\n",
        "     y(bar) --> mean of given y \n",
        "     y(hat)--> Predicted y"
      ]
    },
    {
      "cell_type": "code",
      "execution_count": 33,
      "metadata": {
        "colab": {
          "base_uri": "https://localhost:8080/"
        },
        "id": "wBqmpBeZ6C6G",
        "outputId": "33ef5ec5-4d45-4aef-fd5e-8e52c23ecf3e"
      },
      "outputs": [
        {
          "output_type": "execute_result",
          "data": {
            "text/plain": [
              "array([17.59,  9.13, 13.66, 11.85,  6.82, 11.89,  4.35, 12.  ,  6.6 ,\n",
              "        3.82,  3.25, 15.51,  3.16,  7.23,  0.72,  3.51,  5.3 ,  0.56,\n",
              "        3.65,  5.39,  3.14, 21.77,  4.26,  5.19,  3.08, 22.64, 13.5 ,\n",
              "        7.05, 14.69, 24.15, -1.22,  6.  , 12.13,  1.85,  6.54,  4.56,\n",
              "        4.12,  3.39, 10.12,  5.5 ,  0.56,  3.91,  5.39,  2.44,  6.73,\n",
              "        1.05,  5.13,  1.84,  8.  ,  1.02,  6.75,  1.84,  4.29,  5.  ,\n",
              "        1.42, -1.42,  2.48,  4.6 ,  3.96,  5.41,  5.17, -0.74, 17.93,\n",
              "       12.05, 17.05,  4.89,  5.74,  7.78,  1.02, 20.99,  6.68,  4.03,\n",
              "        1.28,  3.34, -2.68,  0.3 ,  3.88,  5.7 ,  6.75,  2.06,  0.48,\n",
              "        0.2 ,  0.68,  7.54,  5.34,  4.24,  6.8 ,  0.93,  0.15,  2.82,\n",
              "        1.85,  4.3 ,  7.2 ,  1.99,  0.14,  9.06,  0.62])"
            ]
          },
          "metadata": {},
          "execution_count": 33
        }
      ],
      "source": [
        "Y"
      ]
    },
    {
      "cell_type": "code",
      "execution_count": 34,
      "metadata": {
        "colab": {
          "base_uri": "https://localhost:8080/"
        },
        "id": "9J8FTMbr6C6L",
        "outputId": "29ede2c2-89c5-4fd9-f6da-99437ca77350"
      },
      "outputs": [
        {
          "output_type": "execute_result",
          "data": {
            "text/plain": [
              "30.048097417366353"
            ]
          },
          "metadata": {},
          "execution_count": 34
        }
      ],
      "source": [
        "# TSS Calculation\n",
        "TSS=np.var(Y-Y_Mean) ## Variation of Y Around the mean of Y ## Total Sum of Squares(TSS)\n",
        "# Or simply :  np.var(Y) # Variance in data\n",
        "TSS"
      ]
    },
    {
      "cell_type": "code",
      "source": [
        "np.var(Y)"
      ],
      "metadata": {
        "colab": {
          "base_uri": "https://localhost:8080/"
        },
        "id": "lR3V5avWshOO",
        "outputId": "196ebd5e-aab4-46ce-a7d3-ef6c36cfe6c6"
      },
      "execution_count": 35,
      "outputs": [
        {
          "output_type": "execute_result",
          "data": {
            "text/plain": [
              "30.048097417366353"
            ]
          },
          "metadata": {},
          "execution_count": 35
        }
      ]
    },
    {
      "cell_type": "code",
      "execution_count": 36,
      "metadata": {
        "colab": {
          "base_uri": "https://localhost:8080/"
        },
        "id": "zNZdWR-x6C6M",
        "outputId": "b48441a8-8c8f-45e0-a92a-3e0aac53bf81"
      },
      "outputs": [
        {
          "output_type": "execute_result",
          "data": {
            "text/plain": [
              "8.950742126692887"
            ]
          },
          "metadata": {},
          "execution_count": 36
        }
      ],
      "source": [
        "# RSS Calculation\n",
        "RSS=np.var(Y-Y_pred) ### Variation of Y around the predicted value Y_pred ## Residul Sum of squares\n",
        "RSS"
      ]
    },
    {
      "cell_type": "code",
      "execution_count": 37,
      "metadata": {
        "colab": {
          "base_uri": "https://localhost:8080/"
        },
        "id": "mXZBeVN46C6N",
        "outputId": "81e9daaf-936d-41f9-ce7a-54b83866a883"
      },
      "outputs": [
        {
          "output_type": "execute_result",
          "data": {
            "text/plain": [
              "0.702119505193038"
            ]
          },
          "metadata": {},
          "execution_count": 37
        }
      ],
      "source": [
        "# Coefficient of Determination ( R2) Calculation\n",
        "R2=1-(RSS/TSS)\n",
        "R2"
      ]
    },
    {
      "cell_type": "code",
      "execution_count": 38,
      "metadata": {
        "colab": {
          "base_uri": "https://localhost:8080/"
        },
        "id": "VXtBzhTr6C6O",
        "outputId": "67a4e305-407e-47fd-9cc6-d92e015f7286"
      },
      "outputs": [
        {
          "output_type": "execute_result",
          "data": {
            "text/plain": [
              "0.702119505193038"
            ]
          },
          "metadata": {},
          "execution_count": 38
        }
      ],
      "source": [
        " ### In one go\n",
        "R2=(np.var(Y-Y_Mean)-np.var(Y-Y_pred))/np.var(Y-Y_Mean) ## This is the Coefficient of determination R2\n",
        "R2"
      ]
    },
    {
      "cell_type": "markdown",
      "metadata": {
        "id": "8YTDPIn86C6P"
      },
      "source": [
        "### Interpretation\n",
        "##### There is  70 % less variation  around the predicted line than the mean line.\n"
      ]
    },
    {
      "cell_type": "markdown",
      "metadata": {
        "id": "Wlyt7_Ha6C6Q"
      },
      "source": [
        "#### There is one more term : Explained Sum of Squres(SSE)"
      ]
    },
    {
      "cell_type": "code",
      "execution_count": 39,
      "metadata": {
        "colab": {
          "base_uri": "https://localhost:8080/"
        },
        "id": "-Mldji1S6C6Q",
        "outputId": "6b825313-ecbf-465d-ff92-b7064d516ca1"
      },
      "outputs": [
        {
          "output_type": "stream",
          "name": "stdout",
          "text": [
            "21.097355290673452\n",
            "8.950742126692887\n",
            "30.048097417366353\n",
            "30.04809741736634\n"
          ]
        }
      ],
      "source": [
        "ESS= np.var(Y_pred-Y_Mean) ## Explained Sum of Squres(ESS)\n",
        "print(ESS)\n",
        "print(RSS) ## RSS= Var (Y-Ypred)\n",
        "print(TSS) ## TSS = Var (Y-Ymean)\n",
        "print(RSS+ESS)  #  = TSS, Thus TSS = RSS + ESS "
      ]
    },
    {
      "cell_type": "markdown",
      "metadata": {
        "id": "R-tQBi1j6C6T"
      },
      "source": [
        " #### Total sum of squares ( TSS ) = Explained sum of squares (ESS)+ Residual sum of squares (RSS) -->(Unexplainded)"
      ]
    },
    {
      "cell_type": "markdown",
      "source": [
        "## Gaussian/Normal Distribution"
      ],
      "metadata": {
        "id": "TqXcAobIDPVc"
      }
    },
    {
      "cell_type": "code",
      "source": [
        "iris=pd.read_csv('Iris.csv')\n",
        "iris.head()"
      ],
      "metadata": {
        "colab": {
          "base_uri": "https://localhost:8080/",
          "height": 0
        },
        "id": "QbImnneoDOqE",
        "outputId": "7c4e3c76-b270-4491-9c45-69f34cc6c545"
      },
      "execution_count": 40,
      "outputs": [
        {
          "output_type": "execute_result",
          "data": {
            "text/plain": [
              "   Id  SepalLengthCm  SepalWidthCm  PetalLengthCm  PetalWidthCm      Species\n",
              "0   1            5.1           3.5            1.4           0.2  Iris-setosa\n",
              "1   2            4.9           3.0            1.4           0.2  Iris-setosa\n",
              "2   3            4.7           3.2            1.3           0.2  Iris-setosa\n",
              "3   4            4.6           3.1            1.5           0.2  Iris-setosa\n",
              "4   5            5.0           3.6            1.4           0.2  Iris-setosa"
            ],
            "text/html": [
              "\n",
              "  <div id=\"df-4d8e70d1-ed88-4619-9cfe-ab2242f99458\">\n",
              "    <div class=\"colab-df-container\">\n",
              "      <div>\n",
              "<style scoped>\n",
              "    .dataframe tbody tr th:only-of-type {\n",
              "        vertical-align: middle;\n",
              "    }\n",
              "\n",
              "    .dataframe tbody tr th {\n",
              "        vertical-align: top;\n",
              "    }\n",
              "\n",
              "    .dataframe thead th {\n",
              "        text-align: right;\n",
              "    }\n",
              "</style>\n",
              "<table border=\"1\" class=\"dataframe\">\n",
              "  <thead>\n",
              "    <tr style=\"text-align: right;\">\n",
              "      <th></th>\n",
              "      <th>Id</th>\n",
              "      <th>SepalLengthCm</th>\n",
              "      <th>SepalWidthCm</th>\n",
              "      <th>PetalLengthCm</th>\n",
              "      <th>PetalWidthCm</th>\n",
              "      <th>Species</th>\n",
              "    </tr>\n",
              "  </thead>\n",
              "  <tbody>\n",
              "    <tr>\n",
              "      <th>0</th>\n",
              "      <td>1</td>\n",
              "      <td>5.1</td>\n",
              "      <td>3.5</td>\n",
              "      <td>1.4</td>\n",
              "      <td>0.2</td>\n",
              "      <td>Iris-setosa</td>\n",
              "    </tr>\n",
              "    <tr>\n",
              "      <th>1</th>\n",
              "      <td>2</td>\n",
              "      <td>4.9</td>\n",
              "      <td>3.0</td>\n",
              "      <td>1.4</td>\n",
              "      <td>0.2</td>\n",
              "      <td>Iris-setosa</td>\n",
              "    </tr>\n",
              "    <tr>\n",
              "      <th>2</th>\n",
              "      <td>3</td>\n",
              "      <td>4.7</td>\n",
              "      <td>3.2</td>\n",
              "      <td>1.3</td>\n",
              "      <td>0.2</td>\n",
              "      <td>Iris-setosa</td>\n",
              "    </tr>\n",
              "    <tr>\n",
              "      <th>3</th>\n",
              "      <td>4</td>\n",
              "      <td>4.6</td>\n",
              "      <td>3.1</td>\n",
              "      <td>1.5</td>\n",
              "      <td>0.2</td>\n",
              "      <td>Iris-setosa</td>\n",
              "    </tr>\n",
              "    <tr>\n",
              "      <th>4</th>\n",
              "      <td>5</td>\n",
              "      <td>5.0</td>\n",
              "      <td>3.6</td>\n",
              "      <td>1.4</td>\n",
              "      <td>0.2</td>\n",
              "      <td>Iris-setosa</td>\n",
              "    </tr>\n",
              "  </tbody>\n",
              "</table>\n",
              "</div>\n",
              "      <button class=\"colab-df-convert\" onclick=\"convertToInteractive('df-4d8e70d1-ed88-4619-9cfe-ab2242f99458')\"\n",
              "              title=\"Convert this dataframe to an interactive table.\"\n",
              "              style=\"display:none;\">\n",
              "        \n",
              "  <svg xmlns=\"http://www.w3.org/2000/svg\" height=\"24px\"viewBox=\"0 0 24 24\"\n",
              "       width=\"24px\">\n",
              "    <path d=\"M0 0h24v24H0V0z\" fill=\"none\"/>\n",
              "    <path d=\"M18.56 5.44l.94 2.06.94-2.06 2.06-.94-2.06-.94-.94-2.06-.94 2.06-2.06.94zm-11 1L8.5 8.5l.94-2.06 2.06-.94-2.06-.94L8.5 2.5l-.94 2.06-2.06.94zm10 10l.94 2.06.94-2.06 2.06-.94-2.06-.94-.94-2.06-.94 2.06-2.06.94z\"/><path d=\"M17.41 7.96l-1.37-1.37c-.4-.4-.92-.59-1.43-.59-.52 0-1.04.2-1.43.59L10.3 9.45l-7.72 7.72c-.78.78-.78 2.05 0 2.83L4 21.41c.39.39.9.59 1.41.59.51 0 1.02-.2 1.41-.59l7.78-7.78 2.81-2.81c.8-.78.8-2.07 0-2.86zM5.41 20L4 18.59l7.72-7.72 1.47 1.35L5.41 20z\"/>\n",
              "  </svg>\n",
              "      </button>\n",
              "      \n",
              "  <style>\n",
              "    .colab-df-container {\n",
              "      display:flex;\n",
              "      flex-wrap:wrap;\n",
              "      gap: 12px;\n",
              "    }\n",
              "\n",
              "    .colab-df-convert {\n",
              "      background-color: #E8F0FE;\n",
              "      border: none;\n",
              "      border-radius: 50%;\n",
              "      cursor: pointer;\n",
              "      display: none;\n",
              "      fill: #1967D2;\n",
              "      height: 32px;\n",
              "      padding: 0 0 0 0;\n",
              "      width: 32px;\n",
              "    }\n",
              "\n",
              "    .colab-df-convert:hover {\n",
              "      background-color: #E2EBFA;\n",
              "      box-shadow: 0px 1px 2px rgba(60, 64, 67, 0.3), 0px 1px 3px 1px rgba(60, 64, 67, 0.15);\n",
              "      fill: #174EA6;\n",
              "    }\n",
              "\n",
              "    [theme=dark] .colab-df-convert {\n",
              "      background-color: #3B4455;\n",
              "      fill: #D2E3FC;\n",
              "    }\n",
              "\n",
              "    [theme=dark] .colab-df-convert:hover {\n",
              "      background-color: #434B5C;\n",
              "      box-shadow: 0px 1px 3px 1px rgba(0, 0, 0, 0.15);\n",
              "      filter: drop-shadow(0px 1px 2px rgba(0, 0, 0, 0.3));\n",
              "      fill: #FFFFFF;\n",
              "    }\n",
              "  </style>\n",
              "\n",
              "      <script>\n",
              "        const buttonEl =\n",
              "          document.querySelector('#df-4d8e70d1-ed88-4619-9cfe-ab2242f99458 button.colab-df-convert');\n",
              "        buttonEl.style.display =\n",
              "          google.colab.kernel.accessAllowed ? 'block' : 'none';\n",
              "\n",
              "        async function convertToInteractive(key) {\n",
              "          const element = document.querySelector('#df-4d8e70d1-ed88-4619-9cfe-ab2242f99458');\n",
              "          const dataTable =\n",
              "            await google.colab.kernel.invokeFunction('convertToInteractive',\n",
              "                                                     [key], {});\n",
              "          if (!dataTable) return;\n",
              "\n",
              "          const docLinkHtml = 'Like what you see? Visit the ' +\n",
              "            '<a target=\"_blank\" href=https://colab.research.google.com/notebooks/data_table.ipynb>data table notebook</a>'\n",
              "            + ' to learn more about interactive tables.';\n",
              "          element.innerHTML = '';\n",
              "          dataTable['output_type'] = 'display_data';\n",
              "          await google.colab.output.renderOutput(dataTable, element);\n",
              "          const docLink = document.createElement('div');\n",
              "          docLink.innerHTML = docLinkHtml;\n",
              "          element.appendChild(docLink);\n",
              "        }\n",
              "      </script>\n",
              "    </div>\n",
              "  </div>\n",
              "  "
            ]
          },
          "metadata": {},
          "execution_count": 40
        }
      ]
    },
    {
      "cell_type": "code",
      "source": [
        "x=iris['SepalLengthCm'].values\n",
        "print('sepal_length_data \\n: ', x)\n",
        "print('Total number of data/entries : ', len(x))\n",
        "xm=x.mean()\n",
        "print('Meand value : ', xm)\n",
        "x_std=np.std(x)\n",
        "print('Standard deviation : ', x_std)"
      ],
      "metadata": {
        "colab": {
          "base_uri": "https://localhost:8080/"
        },
        "id": "BtfNCtZGI2RD",
        "outputId": "e71b3b1a-7db8-4c3e-8261-25258cc57667"
      },
      "execution_count": 41,
      "outputs": [
        {
          "output_type": "stream",
          "name": "stdout",
          "text": [
            "sepal_length_data \n",
            ":  [5.1 4.9 4.7 4.6 5.  5.4 4.6 5.  4.4 4.9 5.4 4.8 4.8 4.3 5.8 5.7 5.4 5.1\n",
            " 5.7 5.1 5.4 5.1 4.6 5.1 4.8 5.  5.  5.2 5.2 4.7 4.8 5.4 5.2 5.5 4.9 5.\n",
            " 5.5 4.9 4.4 5.1 5.  4.5 4.4 5.  5.1 4.8 5.1 4.6 5.3 5.  7.  6.4 6.9 5.5\n",
            " 6.5 5.7 6.3 4.9 6.6 5.2 5.  5.9 6.  6.1 5.6 6.7 5.6 5.8 6.2 5.6 5.9 6.1\n",
            " 6.3 6.1 6.4 6.6 6.8 6.7 6.  5.7 5.5 5.5 5.8 6.  5.4 6.  6.7 6.3 5.6 5.5\n",
            " 5.5 6.1 5.8 5.  5.6 5.7 5.7 6.2 5.1 5.7 6.3 5.8 7.1 6.3 6.5 7.6 4.9 7.3\n",
            " 6.7 7.2 6.5 6.4 6.8 5.7 5.8 6.4 6.5 7.7 7.7 6.  6.9 5.6 7.7 6.3 6.7 7.2\n",
            " 6.2 6.1 6.4 7.2 7.4 7.9 6.4 6.3 6.1 7.7 6.3 6.4 6.  6.9 6.7 6.9 5.8 6.8\n",
            " 6.7 6.7 6.3 6.5 6.2 5.9]\n",
            "Total number of data/entries :  150\n",
            "Meand value :  5.843333333333334\n",
            "Standard deviation :  0.8253012917851409\n"
          ]
        }
      ]
    },
    {
      "cell_type": "code",
      "source": [
        "x.sort()\n",
        "x"
      ],
      "metadata": {
        "colab": {
          "base_uri": "https://localhost:8080/"
        },
        "id": "ky830cPCy7VM",
        "outputId": "c75abe44-0b61-4712-c0da-0c89988043bd"
      },
      "execution_count": 42,
      "outputs": [
        {
          "output_type": "execute_result",
          "data": {
            "text/plain": [
              "array([4.3, 4.4, 4.4, 4.4, 4.5, 4.6, 4.6, 4.6, 4.6, 4.7, 4.7, 4.8, 4.8,\n",
              "       4.8, 4.8, 4.8, 4.9, 4.9, 4.9, 4.9, 4.9, 4.9, 5. , 5. , 5. , 5. ,\n",
              "       5. , 5. , 5. , 5. , 5. , 5. , 5.1, 5.1, 5.1, 5.1, 5.1, 5.1, 5.1,\n",
              "       5.1, 5.1, 5.2, 5.2, 5.2, 5.2, 5.3, 5.4, 5.4, 5.4, 5.4, 5.4, 5.4,\n",
              "       5.5, 5.5, 5.5, 5.5, 5.5, 5.5, 5.5, 5.6, 5.6, 5.6, 5.6, 5.6, 5.6,\n",
              "       5.7, 5.7, 5.7, 5.7, 5.7, 5.7, 5.7, 5.7, 5.8, 5.8, 5.8, 5.8, 5.8,\n",
              "       5.8, 5.8, 5.9, 5.9, 5.9, 6. , 6. , 6. , 6. , 6. , 6. , 6.1, 6.1,\n",
              "       6.1, 6.1, 6.1, 6.1, 6.2, 6.2, 6.2, 6.2, 6.3, 6.3, 6.3, 6.3, 6.3,\n",
              "       6.3, 6.3, 6.3, 6.3, 6.4, 6.4, 6.4, 6.4, 6.4, 6.4, 6.4, 6.5, 6.5,\n",
              "       6.5, 6.5, 6.5, 6.6, 6.6, 6.7, 6.7, 6.7, 6.7, 6.7, 6.7, 6.7, 6.7,\n",
              "       6.8, 6.8, 6.8, 6.9, 6.9, 6.9, 6.9, 7. , 7.1, 7.2, 7.2, 7.2, 7.3,\n",
              "       7.4, 7.6, 7.7, 7.7, 7.7, 7.7, 7.9])"
            ]
          },
          "metadata": {},
          "execution_count": 42
        }
      ]
    },
    {
      "cell_type": "markdown",
      "source": [
        "Understanding Histogram :"
      ],
      "metadata": {
        "id": "4CLASiA0J9cj"
      }
    },
    {
      "cell_type": "code",
      "source": [
        "count,x_bins=np.histogram(x,bins=10) \n",
        "print( 'Count : ' , count , '\\n' , ' Bins : ', x_bins)\n",
        "len(count),len(x_bins)"
      ],
      "metadata": {
        "colab": {
          "base_uri": "https://localhost:8080/"
        },
        "id": "LBbFdF4TJ8E3",
        "outputId": "e25b2c53-3566-45cb-89b1-4629edda3aa3"
      },
      "execution_count": 43,
      "outputs": [
        {
          "output_type": "stream",
          "name": "stdout",
          "text": [
            "Count :  [ 9 23 14 27 16 26 18  6  5  6] \n",
            "  Bins :  [4.3  4.66 5.02 5.38 5.74 6.1  6.46 6.82 7.18 7.54 7.9 ]\n"
          ]
        },
        {
          "output_type": "execute_result",
          "data": {
            "text/plain": [
              "(10, 11)"
            ]
          },
          "metadata": {},
          "execution_count": 43
        }
      ]
    },
    {
      "cell_type": "markdown",
      "source": [
        "Plotting Histogram :"
      ],
      "metadata": {
        "id": "lAUcFe2uLFjH"
      }
    },
    {
      "cell_type": "code",
      "source": [
        "plt.hist(x,10, color='skyblue',alpha=0.8,label = 'Setosa',edgecolor='r')\n",
        "# first argument is data, second argument is bins into which data is divided. Visit the documentation \n",
        "# https://matplotlib.org/3.2.1/api/_as_gen/matplotlib.pyplot.hist.html\n"
      ],
      "metadata": {
        "colab": {
          "base_uri": "https://localhost:8080/",
          "height": 0
        },
        "id": "uo4k5FzcLAp7",
        "outputId": "2ed13b6a-16c9-4a8d-ce30-2a7829f999ad"
      },
      "execution_count": 44,
      "outputs": [
        {
          "output_type": "execute_result",
          "data": {
            "text/plain": [
              "(array([ 9., 23., 14., 27., 16., 26., 18.,  6.,  5.,  6.]),\n",
              " array([4.3 , 4.66, 5.02, 5.38, 5.74, 6.1 , 6.46, 6.82, 7.18, 7.54, 7.9 ]),\n",
              " <a list of 10 Patch objects>)"
            ]
          },
          "metadata": {},
          "execution_count": 44
        },
        {
          "output_type": "display_data",
          "data": {
            "text/plain": [
              "<Figure size 432x288 with 1 Axes>"
            ],
            "image/png": "[encoded data removed]"
          },
          "metadata": {
            "needs_background": "light"
          }
        }
      ]
    },
    {
      "cell_type": "markdown",
      "source": [
        "Understanding Gaussian/Normal Distribution"
      ],
      "metadata": {
        "id": "bjted4GLPdsM"
      }
    },
    {
      "cell_type": "markdown",
      "source": [
        "**PDF Equation :** \n",
        "$ f(x) = \\frac{1}{\\sigma\\sqrt{2\\pi}} \n",
        "  \\exp\\left( -\\frac{1}{2}\\left(\\frac{x-\\mu}{\\sigma}\\right)^{\\!2}\\,\\right) $"
      ],
      "metadata": {
        "id": "2wmsFBjGU-Co"
      }
    },
    {
      "cell_type": "code",
      "source": [
        "# We are using above calculated : mean : xm, Standard deviation: x_std, \n",
        "np.random.seed(0)\n",
        "xn = np.random.normal(xm, x_std, 3000)\n",
        "count,x_bins=np.histogram(xn,bins=100) #count > number of  data inside particular range\n",
        "y=(1/(x_std * np.sqrt(2 * np.pi))) *np.exp( - (x_bins - xm)**2 / (2 * x_std**2)) #f(x)\n",
        "plt.plot(x_bins,y,'k-',linewidth=2)\n",
        "plt.show()"
      ],
      "metadata": {
        "colab": {
          "base_uri": "https://localhost:8080/",
          "height": 0
        },
        "id": "fWqNmnV2PaSK",
        "outputId": "600856cd-ad0a-46bc-b859-1341f065cf06"
      },
      "execution_count": 45,
      "outputs": [
        {
          "output_type": "display_data",
          "data": {
            "text/plain": [
              "<Figure size 432x288 with 1 Axes>"
            ],
            "image/png": "[encoded data removed]"
          },
          "metadata": {
            "needs_background": "light"
          }
        }
      ]
    },
    {
      "cell_type": "code",
      "source": [
        ""
      ],
      "metadata": {
        "id": "_ITdf4-FRzkg"
      },
      "execution_count": 45,
      "outputs": []
    },
    {
      "cell_type": "markdown",
      "source": [
        "#### Now checking whether Sepal length data follow the Normal distribution or not."
      ],
      "metadata": {
        "id": "N11T7X-bR0T4"
      }
    },
    {
      "cell_type": "code",
      "source": [
        "x=iris['SepalLengthCm'].values\n",
        "w1, x1, z1=plt.hist(x, 10, density=True, color='skyblue',alpha=0.8,label = 'Setosa',edgecolor='r') #hist density=True,\n",
        "plt.show()"
      ],
      "metadata": {
        "colab": {
          "base_uri": "https://localhost:8080/",
          "height": 0
        },
        "id": "WsYmiI0-11jo",
        "outputId": "9cdf113a-59a8-48df-bc7f-5ce42d47d613"
      },
      "execution_count": 46,
      "outputs": [
        {
          "output_type": "display_data",
          "data": {
            "text/plain": [
              "<Figure size 432x288 with 1 Axes>"
            ],
            "image/png": "[encoded data removed]"
          },
          "metadata": {
            "needs_background": "light"
          }
        }
      ]
    },
    {
      "cell_type": "code",
      "source": [
        "# We are using above calculated : mean : xm, Standard deviation: x_std, \n",
        "xn = np.random.normal(xm, x_std, 3000)\n",
        "count,x_bins=np.histogram(xn,bins=100) #count > number of  data inside particular range\n",
        "y=(1/(x_std * np.sqrt(2 * np.pi))) *np.exp( - (x_bins - xm)**2 / (2 * x_std**2)) #f(x)\n",
        "plt.plot(x_bins,y,'k-',linewidth=2)\n",
        "w1, x1, z1=plt.hist(x, 10, density=True, color='skyblue',alpha=0.8,label = 'Setosa',edgecolor='r') #hist\n",
        "plt.show()"
      ],
      "metadata": {
        "colab": {
          "base_uri": "https://localhost:8080/",
          "height": 0
        },
        "id": "BtJ5D6SvRSdo",
        "outputId": "bf26318b-9668-48d2-b55b-cdb2de0082db"
      },
      "execution_count": 47,
      "outputs": [
        {
          "output_type": "display_data",
          "data": {
            "text/plain": [
              "<Figure size 432x288 with 1 Axes>"
            ],
            "image/png": "[encoded data removed]"
          },
          "metadata": {
            "needs_background": "light"
          }
        }
      ]
    },
    {
      "cell_type": "markdown",
      "source": [
        "### Creating function for generating Gaussian plot along with histogarm of dataset"
      ],
      "metadata": {
        "id": "NspUDnaIWIv5"
      }
    },
    {
      "cell_type": "code",
      "source": [
        "# We are using above calculated : mean : xm, Standard deviation: x_std\n",
        "x=iris['SepalLengthCm'].values\n",
        "def Gaussian_plot(x,hist_bins=10):\n",
        "  x_std=np.std(x)\n",
        "  xm=x.mean()\n",
        "  xn = np.random.normal(xm, x_std, 3000)\n",
        "  count,x_bins=np.histogram(xn,bins=100) #count > number of  data inside particular range\n",
        "  y=(1/(x_std * np.sqrt(2 * np.pi))) *np.exp( - (x_bins - xm)**2 / (2 * x_std**2)) #f(x)\n",
        "  plt.plot(x_bins,y,'k-',linewidth=2)\n",
        "  w1, x1, z1=plt.hist(x, hist_bins, density=True, color='skyblue',alpha=0.8,label = 'Setosa',edgecolor='r') #hist\n",
        "  plt.show()"
      ],
      "metadata": {
        "id": "5dtunKWQPJJv"
      },
      "execution_count": 48,
      "outputs": []
    },
    {
      "cell_type": "code",
      "source": [
        "# Plot for Sepal Width \n",
        "x=iris['SepalWidthCm'].values\n",
        "# Gaussian_plot(x,hist_bins=20)"
      ],
      "metadata": {
        "id": "vQjXh5qGXZxj"
      },
      "execution_count": 49,
      "outputs": []
    },
    {
      "cell_type": "code",
      "source": [
        "# Plot for Petal Length \n",
        "x=iris['PetalLengthCm'].values\n",
        "Gaussian_plot(x,hist_bins=10)"
      ],
      "metadata": {
        "colab": {
          "base_uri": "https://localhost:8080/",
          "height": 0
        },
        "id": "iS9RHkc2XvxT",
        "outputId": "2b8c17f6-1049-41a4-f924-ec4b50108b38"
      },
      "execution_count": 50,
      "outputs": [
        {
          "output_type": "display_data",
          "data": {
            "text/plain": [
              "<Figure size 432x288 with 1 Axes>"
            ],
            "image/png": "[encoded data removed]"
          },
          "metadata": {
            "needs_background": "light"
          }
        }
      ]
    },
    {
      "cell_type": "markdown",
      "source": [
        "## Applying the concept of Normal distribution for filling the null value"
      ],
      "metadata": {
        "id": "SIpa9jZHHmjG"
      }
    },
    {
      "cell_type": "code",
      "source": [
        "titanic = pd.read_csv(\"titanic.csv\")\n",
        "titanic.info()"
      ],
      "metadata": {
        "colab": {
          "base_uri": "https://localhost:8080/"
        },
        "id": "g3xPl5kLCVmG",
        "outputId": "ecd5fc3c-a4c4-40cc-861a-e1f6cc6a0326"
      },
      "execution_count": 51,
      "outputs": [
        {
          "output_type": "stream",
          "name": "stdout",
          "text": [
            "<class 'pandas.core.frame.DataFrame'>\n",
            "RangeIndex: 891 entries, 0 to 890\n",
            "Data columns (total 12 columns):\n",
            " #   Column       Non-Null Count  Dtype  \n",
            "---  ------       --------------  -----  \n",
            " 0   PassengerId  891 non-null    int64  \n",
            " 1   Survived     891 non-null    int64  \n",
            " 2   Pclass       891 non-null    int64  \n",
            " 3   Name         891 non-null    object \n",
            " 4   Sex          891 non-null    object \n",
            " 5   Age          714 non-null    float64\n",
            " 6   SibSp        891 non-null    int64  \n",
            " 7   Parch        891 non-null    int64  \n",
            " 8   Ticket       891 non-null    object \n",
            " 9   Fare         891 non-null    float64\n",
            " 10  Cabin        204 non-null    object \n",
            " 11  Embarked     889 non-null    object \n",
            "dtypes: float64(2), int64(5), object(5)\n",
            "memory usage: 83.7+ KB\n"
          ]
        }
      ]
    },
    {
      "cell_type": "code",
      "source": [
        "titanic.head()"
      ],
      "metadata": {
        "colab": {
          "base_uri": "https://localhost:8080/",
          "height": 206
        },
        "id": "xTCVYdozRtgv",
        "outputId": "e5f79ba5-b97a-41f8-b665-204ad0428e37"
      },
      "execution_count": 52,
      "outputs": [
        {
          "output_type": "execute_result",
          "data": {
            "text/plain": [
              "   PassengerId  Survived  Pclass  \\\n",
              "0            1         0       3   \n",
              "1            2         1       1   \n",
              "2            3         1       3   \n",
              "3            4         1       1   \n",
              "4            5         0       3   \n",
              "\n",
              "                                                Name     Sex   Age  SibSp  \\\n",
              "0                            Braund, Mr. Owen Harris    male  22.0      1   \n",
              "1  Cumings, Mrs. John Bradley (Florence Briggs Th...  female  38.0      1   \n",
              "2                             Heikkinen, Miss. Laina  female  26.0      0   \n",
              "3       Futrelle, Mrs. Jacques Heath (Lily May Peel)  female  35.0      1   \n",
              "4                           Allen, Mr. William Henry    male  35.0      0   \n",
              "\n",
              "   Parch            Ticket     Fare Cabin Embarked  \n",
              "0      0         A/5 21171   7.2500   NaN        S  \n",
              "1      0          PC 17599  71.2833   C85        C  \n",
              "2      0  STON/O2. 3101282   7.9250   NaN        S  \n",
              "3      0            113803  53.1000  C123        S  \n",
              "4      0            373450   8.0500   NaN        S  "
            ],
            "text/html": [
              "\n",
              "  <div id=\"df-89c419ca-3158-4366-a624-cc815370dc09\">\n",
              "    <div class=\"colab-df-container\">\n",
              "      <div>\n",
              "<style scoped>\n",
              "    .dataframe tbody tr th:only-of-type {\n",
              "        vertical-align: middle;\n",
              "    }\n",
              "\n",
              "    .dataframe tbody tr th {\n",
              "        vertical-align: top;\n",
              "    }\n",
              "\n",
              "    .dataframe thead th {\n",
              "        text-align: right;\n",
              "    }\n",
              "</style>\n",
              "<table border=\"1\" class=\"dataframe\">\n",
              "  <thead>\n",
              "    <tr style=\"text-align: right;\">\n",
              "      <th></th>\n",
              "      <th>PassengerId</th>\n",
              "      <th>Survived</th>\n",
              "      <th>Pclass</th>\n",
              "      <th>Name</th>\n",
              "      <th>Sex</th>\n",
              "      <th>Age</th>\n",
              "      <th>SibSp</th>\n",
              "      <th>Parch</th>\n",
              "      <th>Ticket</th>\n",
              "      <th>Fare</th>\n",
              "      <th>Cabin</th>\n",
              "      <th>Embarked</th>\n",
              "    </tr>\n",
              "  </thead>\n",
              "  <tbody>\n",
              "    <tr>\n",
              "      <th>0</th>\n",
              "      <td>1</td>\n",
              "      <td>0</td>\n",
              "      <td>3</td>\n",
              "      <td>Braund, Mr. Owen Harris</td>\n",
              "      <td>male</td>\n",
              "      <td>22.0</td>\n",
              "      <td>1</td>\n",
              "      <td>0</td>\n",
              "      <td>A/5 21171</td>\n",
              "      <td>7.2500</td>\n",
              "      <td>NaN</td>\n",
              "      <td>S</td>\n",
              "    </tr>\n",
              "    <tr>\n",
              "      <th>1</th>\n",
              "      <td>2</td>\n",
              "      <td>1</td>\n",
              "      <td>1</td>\n",
              "      <td>Cumings, Mrs. John Bradley (Florence Briggs Th...</td>\n",
              "      <td>female</td>\n",
              "      <td>38.0</td>\n",
              "      <td>1</td>\n",
              "      <td>0</td>\n",
              "      <td>PC 17599</td>\n",
              "      <td>71.2833</td>\n",
              "      <td>C85</td>\n",
              "      <td>C</td>\n",
              "    </tr>\n",
              "    <tr>\n",
              "      <th>2</th>\n",
              "      <td>3</td>\n",
              "      <td>1</td>\n",
              "      <td>3</td>\n",
              "      <td>Heikkinen, Miss. Laina</td>\n",
              "      <td>female</td>\n",
              "      <td>26.0</td>\n",
              "      <td>0</td>\n",
              "      <td>0</td>\n",
              "      <td>STON/O2. 3101282</td>\n",
              "      <td>7.9250</td>\n",
              "      <td>NaN</td>\n",
              "      <td>S</td>\n",
              "    </tr>\n",
              "    <tr>\n",
              "      <th>3</th>\n",
              "      <td>4</td>\n",
              "      <td>1</td>\n",
              "      <td>1</td>\n",
              "      <td>Futrelle, Mrs. Jacques Heath (Lily May Peel)</td>\n",
              "      <td>female</td>\n",
              "      <td>35.0</td>\n",
              "      <td>1</td>\n",
              "      <td>0</td>\n",
              "      <td>113803</td>\n",
              "      <td>53.1000</td>\n",
              "      <td>C123</td>\n",
              "      <td>S</td>\n",
              "    </tr>\n",
              "    <tr>\n",
              "      <th>4</th>\n",
              "      <td>5</td>\n",
              "      <td>0</td>\n",
              "      <td>3</td>\n",
              "      <td>Allen, Mr. William Henry</td>\n",
              "      <td>male</td>\n",
              "      <td>35.0</td>\n",
              "      <td>0</td>\n",
              "      <td>0</td>\n",
              "      <td>373450</td>\n",
              "      <td>8.0500</td>\n",
              "      <td>NaN</td>\n",
              "      <td>S</td>\n",
              "    </tr>\n",
              "  </tbody>\n",
              "</table>\n",
              "</div>\n",
              "      <button class=\"colab-df-convert\" onclick=\"convertToInteractive('df-89c419ca-3158-4366-a624-cc815370dc09')\"\n",
              "              title=\"Convert this dataframe to an interactive table.\"\n",
              "              style=\"display:none;\">\n",
              "        \n",
              "  <svg xmlns=\"http://www.w3.org/2000/svg\" height=\"24px\"viewBox=\"0 0 24 24\"\n",
              "       width=\"24px\">\n",
              "    <path d=\"M0 0h24v24H0V0z\" fill=\"none\"/>\n",
              "    <path d=\"M18.56 5.44l.94 2.06.94-2.06 2.06-.94-2.06-.94-.94-2.06-.94 2.06-2.06.94zm-11 1L8.5 8.5l.94-2.06 2.06-.94-2.06-.94L8.5 2.5l-.94 2.06-2.06.94zm10 10l.94 2.06.94-2.06 2.06-.94-2.06-.94-.94-2.06-.94 2.06-2.06.94z\"/><path d=\"M17.41 7.96l-1.37-1.37c-.4-.4-.92-.59-1.43-.59-.52 0-1.04.2-1.43.59L10.3 9.45l-7.72 7.72c-.78.78-.78 2.05 0 2.83L4 21.41c.39.39.9.59 1.41.59.51 0 1.02-.2 1.41-.59l7.78-7.78 2.81-2.81c.8-.78.8-2.07 0-2.86zM5.41 20L4 18.59l7.72-7.72 1.47 1.35L5.41 20z\"/>\n",
              "  </svg>\n",
              "      </button>\n",
              "      \n",
              "  <style>\n",
              "    .colab-df-container {\n",
              "      display:flex;\n",
              "      flex-wrap:wrap;\n",
              "      gap: 12px;\n",
              "    }\n",
              "\n",
              "    .colab-df-convert {\n",
              "      background-color: #E8F0FE;\n",
              "      border: none;\n",
              "      border-radius: 50%;\n",
              "      cursor: pointer;\n",
              "      display: none;\n",
              "      fill: #1967D2;\n",
              "      height: 32px;\n",
              "      padding: 0 0 0 0;\n",
              "      width: 32px;\n",
              "    }\n",
              "\n",
              "    .colab-df-convert:hover {\n",
              "      background-color: #E2EBFA;\n",
              "      box-shadow: 0px 1px 2px rgba(60, 64, 67, 0.3), 0px 1px 3px 1px rgba(60, 64, 67, 0.15);\n",
              "      fill: #174EA6;\n",
              "    }\n",
              "\n",
              "    [theme=dark] .colab-df-convert {\n",
              "      background-color: #3B4455;\n",
              "      fill: #D2E3FC;\n",
              "    }\n",
              "\n",
              "    [theme=dark] .colab-df-convert:hover {\n",
              "      background-color: #434B5C;\n",
              "      box-shadow: 0px 1px 3px 1px rgba(0, 0, 0, 0.15);\n",
              "      filter: drop-shadow(0px 1px 2px rgba(0, 0, 0, 0.3));\n",
              "      fill: #FFFFFF;\n",
              "    }\n",
              "  </style>\n",
              "\n",
              "      <script>\n",
              "        const buttonEl =\n",
              "          document.querySelector('#df-89c419ca-3158-4366-a624-cc815370dc09 button.colab-df-convert');\n",
              "        buttonEl.style.display =\n",
              "          google.colab.kernel.accessAllowed ? 'block' : 'none';\n",
              "\n",
              "        async function convertToInteractive(key) {\n",
              "          const element = document.querySelector('#df-89c419ca-3158-4366-a624-cc815370dc09');\n",
              "          const dataTable =\n",
              "            await google.colab.kernel.invokeFunction('convertToInteractive',\n",
              "                                                     [key], {});\n",
              "          if (!dataTable) return;\n",
              "\n",
              "          const docLinkHtml = 'Like what you see? Visit the ' +\n",
              "            '<a target=\"_blank\" href=https://colab.research.google.com/notebooks/data_table.ipynb>data table notebook</a>'\n",
              "            + ' to learn more about interactive tables.';\n",
              "          element.innerHTML = '';\n",
              "          dataTable['output_type'] = 'display_data';\n",
              "          await google.colab.output.renderOutput(dataTable, element);\n",
              "          const docLink = document.createElement('div');\n",
              "          docLink.innerHTML = docLinkHtml;\n",
              "          element.appendChild(docLink);\n",
              "        }\n",
              "      </script>\n",
              "    </div>\n",
              "  </div>\n",
              "  "
            ]
          },
          "metadata": {},
          "execution_count": 52
        }
      ]
    },
    {
      "cell_type": "code",
      "source": [
        "titanic['Age'].plot(kind='hist',bins=20,edgecolor='r')"
      ],
      "metadata": {
        "colab": {
          "base_uri": "https://localhost:8080/",
          "height": 282
        },
        "id": "v_crOLjxDsSe",
        "outputId": "d775bc45-00b3-4d53-8b72-15c7c57e5b44"
      },
      "execution_count": 53,
      "outputs": [
        {
          "output_type": "execute_result",
          "data": {
            "text/plain": [
              "<matplotlib.axes._subplots.AxesSubplot at 0x7fb05b88c810>"
            ]
          },
          "metadata": {},
          "execution_count": 53
        },
        {
          "output_type": "display_data",
          "data": {
            "text/plain": [
              "<Figure size 432x288 with 1 Axes>"
            ],
            "image/png": "[encoded data removed]"
          },
          "metadata": {
            "needs_background": "light"
          }
        }
      ]
    },
    {
      "cell_type": "code",
      "source": [
        "# Gaussian Plot for Age data  \n",
        "x=titanic['Age'].values\n",
        "Gaussian_plot(x,hist_bins=20)"
      ],
      "metadata": {
        "colab": {
          "base_uri": "https://localhost:8080/",
          "height": 380
        },
        "id": "15y9BR8JYNKd",
        "outputId": "98c08e87-1857-46b0-dc34-4edc6d62ca8e"
      },
      "execution_count": 54,
      "outputs": [
        {
          "output_type": "error",
          "ename": "ValueError",
          "evalue": "ignored",
          "traceback": [
            "\u001b[0;31m---------------------------------------------------------------------------\u001b[0m",
            "\u001b[0;31mValueError\u001b[0m                                Traceback (most recent call last)",
            "\u001b[0;32m<ipython-input-54-545070d2a8a8>\u001b[0m in \u001b[0;36m<module>\u001b[0;34m()\u001b[0m\n\u001b[1;32m      1\u001b[0m \u001b[0;31m# Gaussian Plot for Age data\u001b[0m\u001b[0;34m\u001b[0m\u001b[0;34m\u001b[0m\u001b[0;34m\u001b[0m\u001b[0m\n\u001b[1;32m      2\u001b[0m \u001b[0mx\u001b[0m\u001b[0;34m=\u001b[0m\u001b[0mtitanic\u001b[0m\u001b[0;34m[\u001b[0m\u001b[0;34m'Age'\u001b[0m\u001b[0;34m]\u001b[0m\u001b[0;34m.\u001b[0m\u001b[0mvalues\u001b[0m\u001b[0;34m\u001b[0m\u001b[0;34m\u001b[0m\u001b[0m\n\u001b[0;32m----> 3\u001b[0;31m \u001b[0mGaussian_plot\u001b[0m\u001b[0;34m(\u001b[0m\u001b[0mx\u001b[0m\u001b[0;34m,\u001b[0m\u001b[0mhist_bins\u001b[0m\u001b[0;34m=\u001b[0m\u001b[0;36m20\u001b[0m\u001b[0;34m)\u001b[0m\u001b[0;34m\u001b[0m\u001b[0;34m\u001b[0m\u001b[0m\n\u001b[0m",
            "\u001b[0;32m<ipython-input-48-a475e031f525>\u001b[0m in \u001b[0;36mGaussian_plot\u001b[0;34m(x, hist_bins)\u001b[0m\n\u001b[1;32m      5\u001b[0m   \u001b[0mxm\u001b[0m\u001b[0;34m=\u001b[0m\u001b[0mx\u001b[0m\u001b[0;34m.\u001b[0m\u001b[0mmean\u001b[0m\u001b[0;34m(\u001b[0m\u001b[0;34m)\u001b[0m\u001b[0;34m\u001b[0m\u001b[0;34m\u001b[0m\u001b[0m\n\u001b[1;32m      6\u001b[0m   \u001b[0mxn\u001b[0m \u001b[0;34m=\u001b[0m \u001b[0mnp\u001b[0m\u001b[0;34m.\u001b[0m\u001b[0mrandom\u001b[0m\u001b[0;34m.\u001b[0m\u001b[0mnormal\u001b[0m\u001b[0;34m(\u001b[0m\u001b[0mxm\u001b[0m\u001b[0;34m,\u001b[0m \u001b[0mx_std\u001b[0m\u001b[0;34m,\u001b[0m \u001b[0;36m3000\u001b[0m\u001b[0;34m)\u001b[0m\u001b[0;34m\u001b[0m\u001b[0;34m\u001b[0m\u001b[0m\n\u001b[0;32m----> 7\u001b[0;31m   \u001b[0mcount\u001b[0m\u001b[0;34m,\u001b[0m\u001b[0mx_bins\u001b[0m\u001b[0;34m=\u001b[0m\u001b[0mnp\u001b[0m\u001b[0;34m.\u001b[0m\u001b[0mhistogram\u001b[0m\u001b[0;34m(\u001b[0m\u001b[0mxn\u001b[0m\u001b[0;34m,\u001b[0m\u001b[0mbins\u001b[0m\u001b[0;34m=\u001b[0m\u001b[0;36m100\u001b[0m\u001b[0;34m)\u001b[0m \u001b[0;31m#count > number of  data inside particular range\u001b[0m\u001b[0;34m\u001b[0m\u001b[0;34m\u001b[0m\u001b[0m\n\u001b[0m\u001b[1;32m      8\u001b[0m   \u001b[0my\u001b[0m\u001b[0;34m=\u001b[0m\u001b[0;34m(\u001b[0m\u001b[0;36m1\u001b[0m\u001b[0;34m/\u001b[0m\u001b[0;34m(\u001b[0m\u001b[0mx_std\u001b[0m \u001b[0;34m*\u001b[0m \u001b[0mnp\u001b[0m\u001b[0;34m.\u001b[0m\u001b[0msqrt\u001b[0m\u001b[0;34m(\u001b[0m\u001b[0;36m2\u001b[0m \u001b[0;34m*\u001b[0m \u001b[0mnp\u001b[0m\u001b[0;34m.\u001b[0m\u001b[0mpi\u001b[0m\u001b[0;34m)\u001b[0m\u001b[0;34m)\u001b[0m\u001b[0;34m)\u001b[0m \u001b[0;34m*\u001b[0m\u001b[0mnp\u001b[0m\u001b[0;34m.\u001b[0m\u001b[0mexp\u001b[0m\u001b[0;34m(\u001b[0m \u001b[0;34m-\u001b[0m \u001b[0;34m(\u001b[0m\u001b[0mx_bins\u001b[0m \u001b[0;34m-\u001b[0m \u001b[0mxm\u001b[0m\u001b[0;34m)\u001b[0m\u001b[0;34m**\u001b[0m\u001b[0;36m2\u001b[0m \u001b[0;34m/\u001b[0m \u001b[0;34m(\u001b[0m\u001b[0;36m2\u001b[0m \u001b[0;34m*\u001b[0m \u001b[0mx_std\u001b[0m\u001b[0;34m**\u001b[0m\u001b[0;36m2\u001b[0m\u001b[0;34m)\u001b[0m\u001b[0;34m)\u001b[0m \u001b[0;31m#f(x)\u001b[0m\u001b[0;34m\u001b[0m\u001b[0;34m\u001b[0m\u001b[0m\n\u001b[1;32m      9\u001b[0m   \u001b[0mplt\u001b[0m\u001b[0;34m.\u001b[0m\u001b[0mplot\u001b[0m\u001b[0;34m(\u001b[0m\u001b[0mx_bins\u001b[0m\u001b[0;34m,\u001b[0m\u001b[0my\u001b[0m\u001b[0;34m,\u001b[0m\u001b[0;34m'k-'\u001b[0m\u001b[0;34m,\u001b[0m\u001b[0mlinewidth\u001b[0m\u001b[0;34m=\u001b[0m\u001b[0;36m2\u001b[0m\u001b[0;34m)\u001b[0m\u001b[0;34m\u001b[0m\u001b[0;34m\u001b[0m\u001b[0m\n",
            "\u001b[0;32m<__array_function__ internals>\u001b[0m in \u001b[0;36mhistogram\u001b[0;34m(*args, **kwargs)\u001b[0m\n",
            "\u001b[0;32m/usr/local/lib/python3.7/dist-packages/numpy/lib/histograms.py\u001b[0m in \u001b[0;36mhistogram\u001b[0;34m(a, bins, range, normed, weights, density)\u001b[0m\n\u001b[1;32m    791\u001b[0m     \u001b[0ma\u001b[0m\u001b[0;34m,\u001b[0m \u001b[0mweights\u001b[0m \u001b[0;34m=\u001b[0m \u001b[0m_ravel_and_check_weights\u001b[0m\u001b[0;34m(\u001b[0m\u001b[0ma\u001b[0m\u001b[0;34m,\u001b[0m \u001b[0mweights\u001b[0m\u001b[0;34m)\u001b[0m\u001b[0;34m\u001b[0m\u001b[0;34m\u001b[0m\u001b[0m\n\u001b[1;32m    792\u001b[0m \u001b[0;34m\u001b[0m\u001b[0m\n\u001b[0;32m--> 793\u001b[0;31m     \u001b[0mbin_edges\u001b[0m\u001b[0;34m,\u001b[0m \u001b[0muniform_bins\u001b[0m \u001b[0;34m=\u001b[0m \u001b[0m_get_bin_edges\u001b[0m\u001b[0;34m(\u001b[0m\u001b[0ma\u001b[0m\u001b[0;34m,\u001b[0m \u001b[0mbins\u001b[0m\u001b[0;34m,\u001b[0m \u001b[0mrange\u001b[0m\u001b[0;34m,\u001b[0m \u001b[0mweights\u001b[0m\u001b[0;34m)\u001b[0m\u001b[0;34m\u001b[0m\u001b[0;34m\u001b[0m\u001b[0m\n\u001b[0m\u001b[1;32m    794\u001b[0m \u001b[0;34m\u001b[0m\u001b[0m\n\u001b[1;32m    795\u001b[0m     \u001b[0;31m# Histogram is an integer or a float array depending on the weights.\u001b[0m\u001b[0;34m\u001b[0m\u001b[0;34m\u001b[0m\u001b[0;34m\u001b[0m\u001b[0m\n",
            "\u001b[0;32m/usr/local/lib/python3.7/dist-packages/numpy/lib/histograms.py\u001b[0m in \u001b[0;36m_get_bin_edges\u001b[0;34m(a, bins, range, weights)\u001b[0m\n\u001b[1;32m    424\u001b[0m             \u001b[0;32mraise\u001b[0m \u001b[0mValueError\u001b[0m\u001b[0;34m(\u001b[0m\u001b[0;34m'`bins` must be positive, when an integer'\u001b[0m\u001b[0;34m)\u001b[0m\u001b[0;34m\u001b[0m\u001b[0;34m\u001b[0m\u001b[0m\n\u001b[1;32m    425\u001b[0m \u001b[0;34m\u001b[0m\u001b[0m\n\u001b[0;32m--> 426\u001b[0;31m         \u001b[0mfirst_edge\u001b[0m\u001b[0;34m,\u001b[0m \u001b[0mlast_edge\u001b[0m \u001b[0;34m=\u001b[0m \u001b[0m_get_outer_edges\u001b[0m\u001b[0;34m(\u001b[0m\u001b[0ma\u001b[0m\u001b[0;34m,\u001b[0m \u001b[0mrange\u001b[0m\u001b[0;34m)\u001b[0m\u001b[0;34m\u001b[0m\u001b[0;34m\u001b[0m\u001b[0m\n\u001b[0m\u001b[1;32m    427\u001b[0m \u001b[0;34m\u001b[0m\u001b[0m\n\u001b[1;32m    428\u001b[0m     \u001b[0;32melif\u001b[0m \u001b[0mnp\u001b[0m\u001b[0;34m.\u001b[0m\u001b[0mndim\u001b[0m\u001b[0;34m(\u001b[0m\u001b[0mbins\u001b[0m\u001b[0;34m)\u001b[0m \u001b[0;34m==\u001b[0m \u001b[0;36m1\u001b[0m\u001b[0;34m:\u001b[0m\u001b[0;34m\u001b[0m\u001b[0;34m\u001b[0m\u001b[0m\n",
            "\u001b[0;32m/usr/local/lib/python3.7/dist-packages/numpy/lib/histograms.py\u001b[0m in \u001b[0;36m_get_outer_edges\u001b[0;34m(a, range)\u001b[0m\n\u001b[1;32m    322\u001b[0m         \u001b[0;32mif\u001b[0m \u001b[0;32mnot\u001b[0m \u001b[0;34m(\u001b[0m\u001b[0mnp\u001b[0m\u001b[0;34m.\u001b[0m\u001b[0misfinite\u001b[0m\u001b[0;34m(\u001b[0m\u001b[0mfirst_edge\u001b[0m\u001b[0;34m)\u001b[0m \u001b[0;32mand\u001b[0m \u001b[0mnp\u001b[0m\u001b[0;34m.\u001b[0m\u001b[0misfinite\u001b[0m\u001b[0;34m(\u001b[0m\u001b[0mlast_edge\u001b[0m\u001b[0;34m)\u001b[0m\u001b[0;34m)\u001b[0m\u001b[0;34m:\u001b[0m\u001b[0;34m\u001b[0m\u001b[0;34m\u001b[0m\u001b[0m\n\u001b[1;32m    323\u001b[0m             raise ValueError(\n\u001b[0;32m--> 324\u001b[0;31m                 \"autodetected range of [{}, {}] is not finite\".format(first_edge, last_edge))\n\u001b[0m\u001b[1;32m    325\u001b[0m \u001b[0;34m\u001b[0m\u001b[0m\n\u001b[1;32m    326\u001b[0m     \u001b[0;31m# expand empty range to avoid divide by zero\u001b[0m\u001b[0;34m\u001b[0m\u001b[0;34m\u001b[0m\u001b[0;34m\u001b[0m\u001b[0m\n",
            "\u001b[0;31mValueError\u001b[0m: autodetected range of [nan, nan] is not finite"
          ]
        }
      ]
    },
    {
      "cell_type": "code",
      "source": [
        "age_avg = titanic['Age'].mean()\n",
        "print('Mean of Age data : ', age_avg)\n",
        "age_std =titanic['Age'].std()\n",
        "print('Stadard deviation of Age data : ' ,age_std)\n",
        "age_null_count = titanic['Age'].isnull().sum()\n",
        "print('Count of null entries in Age column : ', age_null_count)"
      ],
      "metadata": {
        "id": "6IKLpFmVD6yY"
      },
      "execution_count": null,
      "outputs": []
    },
    {
      "cell_type": "code",
      "source": [
        "30+14"
      ],
      "metadata": {
        "id": "Lr5THnTk468d"
      },
      "execution_count": null,
      "outputs": []
    },
    {
      "cell_type": "code",
      "source": [
        "30-14"
      ],
      "metadata": {
        "id": "LQE--Gv649VW"
      },
      "execution_count": null,
      "outputs": []
    },
    {
      "cell_type": "code",
      "source": [
        "## Generating 177 random number from the same distribution as that of Age column data\n",
        "np.random.seed(0)\n",
        "age_null_random_list = np.random.randint(age_avg - age_std, age_avg + age_std, size=age_null_count)\n",
        "age_null_random_list"
      ],
      "metadata": {
        "id": "zAkXrdafE1Of"
      },
      "execution_count": null,
      "outputs": []
    },
    {
      "cell_type": "code",
      "source": [
        "titanic['Age'].isnull().sum() # Or --> np.isnan(titanic['Age']).sum()"
      ],
      "metadata": {
        "id": "4ycbt7-hFTr_"
      },
      "execution_count": null,
      "outputs": []
    },
    {
      "cell_type": "code",
      "source": [
        "titanic.loc[np.isnan(titanic['Age']),'Age'].index"
      ],
      "metadata": {
        "id": "DXBC_SQsGQ2x"
      },
      "execution_count": null,
      "outputs": []
    },
    {
      "cell_type": "code",
      "source": [
        "titanic.loc[np.isnan(titanic['Age']),'Age'] = age_null_random_list"
      ],
      "metadata": {
        "id": "QxxnSgoPGiRM"
      },
      "execution_count": null,
      "outputs": []
    },
    {
      "cell_type": "code",
      "source": [
        "titanic['Age'].isnull().sum()"
      ],
      "metadata": {
        "id": "gdYSizjUGqte"
      },
      "execution_count": null,
      "outputs": []
    },
    {
      "cell_type": "code",
      "source": [
        "titanic.iloc[17,5]"
      ],
      "metadata": {
        "id": "HkaiRqs3Gtl2"
      },
      "execution_count": null,
      "outputs": []
    },
    {
      "cell_type": "markdown",
      "source": [
        "## Using built in function from scipy library for plotting Gaussian Density Funciton\n"
      ],
      "metadata": {
        "id": "t90dR-lkaP7y"
      }
    },
    {
      "cell_type": "code",
      "source": [
        "from scipy.stats import norm"
      ],
      "metadata": {
        "id": "SaDTIF_UaZpH"
      },
      "execution_count": null,
      "outputs": []
    },
    {
      "cell_type": "code",
      "source": [
        "# Normal Distribution with scipy library\n",
        "x=iris['SepalLengthCm'].values\n",
        "x_std=np.std(x)\n",
        "xm=x.mean()\n",
        "x_min = min(x)\n",
        "x_max = max(x)\n",
        "x = np.linspace(x_min, x_max, 100)\n",
        "##Normalization\n",
        "xn=(x-xm)/x_std\n",
        "y = norm.pdf(xn,0,1)# After normalization mean=0 and std=1\n",
        "plt.plot(x,y, color='y')"
      ],
      "metadata": {
        "id": "lXlZwp-zamPt"
      },
      "execution_count": null,
      "outputs": []
    }
  ],
  "metadata": {
    "kernelspec": {
      "display_name": "Python 3",
      "language": "python",
      "name": "python3"
    },
    "language_info": {
      "codemirror_mode": {
        "name": "ipython",
        "version": 3
      },
      "file_extension": ".py",
      "mimetype": "text/x-python",
      "name": "python",
      "nbconvert_exporter": "python",
      "pygments_lexer": "ipython3",
      "version": "3.7.6"
    },
    "colab": {
      "name": "Demo_Covariance_Coeff. of Deter (R2)_Gaussian_Distribution_RJ.ipynb",
      "provenance": [],
      "include_colab_link": true
    }
  },
  "nbformat": 4,
  "nbformat_minor": 0
}
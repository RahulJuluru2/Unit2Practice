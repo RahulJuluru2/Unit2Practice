{
  "nbformat": 4,
  "nbformat_minor": 0,
  "metadata": {
    "colab": {
      "name": "B192july2022.ipynb",
      "provenance": [],
      "include_colab_link": true
    },
    "kernelspec": {
      "name": "python3",
      "display_name": "Python 3"
    },
    "language_info": {
      "name": "python"
    }
  },
  "cells": [
    {
      "cell_type": "markdown",
      "metadata": {
        "id": "view-in-github",
        "colab_type": "text"
      },
      "source": [
        "<a href=\"https://colab.research.google.com/github/RahulJuluru2/Unit2Practice/blob/main/B192july2022.ipynb\" target=\"_parent\"><img src=\"https://colab.research.google.com/assets/colab-badge.svg\" alt=\"Open In Colab\"/></a>"
      ]
    },
    {
      "cell_type": "code",
      "execution_count": null,
      "metadata": {
        "colab": {
          "base_uri": "https://localhost:8080/"
        },
        "id": "q6CoWeUOHNKg",
        "outputId": "a254803b-f256-41a2-a954-4070c3cbed8b"
      },
      "outputs": [
        {
          "output_type": "stream",
          "name": "stdout",
          "text": [
            "0.759510916949111\n"
          ]
        }
      ],
      "source": [
        "import math\n",
        "print(1/(1+math.exp(-1.15)))"
      ]
    },
    {
      "cell_type": "code",
      "source": [
        "error = (1-0.7595) ** 2\n",
        "print(error)"
      ],
      "metadata": {
        "colab": {
          "base_uri": "https://localhost:8080/"
        },
        "id": "wTBU-Yi5HmHK",
        "outputId": "8df4026e-534d-4949-f05f-ff40acc0f359"
      },
      "execution_count": null,
      "outputs": [
        {
          "output_type": "stream",
          "name": "stdout",
          "text": [
            "0.057840250000000024\n"
          ]
        }
      ]
    },
    {
      "cell_type": "code",
      "source": [
        "x = 0.3\n",
        "w = 0.5\n",
        "b = 1\n",
        "\n",
        "y = 1 #actual Value\n",
        "lr = 0.5"
      ],
      "metadata": {
        "id": "D0XNe5pVJJed"
      },
      "execution_count": null,
      "outputs": []
    },
    {
      "cell_type": "code",
      "source": [
        "for i in range(10):\n",
        "  fw = w*x+b\n",
        "  activation = 1/(1+math.exp(-fw))\n",
        "  print(\"ypred\",activation)\n",
        "  error = (1-activation)**2\n",
        "  print(\"error\",error)\n",
        "  dr_error = -2*(y-activation)\n",
        "  dr_pred = activation*(1-activation)\n",
        "  d_w = x\n",
        "  w = w - lr * dr_error*dr_pred*d_w\n",
        "  print('weight',w)"
      ],
      "metadata": {
        "colab": {
          "base_uri": "https://localhost:8080/"
        },
        "id": "oSHSu2k0Ordw",
        "outputId": "2e4549fb-aa0f-4cff-ee1f-f9af64435998"
      },
      "execution_count": null,
      "outputs": [
        {
          "output_type": "stream",
          "name": "stdout",
          "text": [
            "ypred 0.759510916949111\n",
            "error 0.05783499906665739\n",
            "weight 0.5131778939518604\n",
            "ypred 0.7602322747827363\n",
            "error 0.057488562055861295\n",
            "weight 0.5262892920435752\n",
            "ypred 0.760948521109216\n",
            "error 0.05714560955987097\n",
            "weight 0.5393347521683157\n",
            "ypred 0.7616597076259546\n",
            "error 0.05680609496894545\n",
            "weight 0.5523148262739415\n",
            "ypred 0.762365885403429\n",
            "error 0.05646997242009625\n",
            "weight 0.5652300604307676\n",
            "ypred 0.7630671048930795\n",
            "error 0.05613719678374699\n",
            "weight 0.5780809948987436\n",
            "ypred 0.7637634159351279\n",
            "error 0.0558077236506394\n",
            "weight 0.5908681641940364\n",
            "ypred 0.7644548677663183\n",
            "error 0.05548150931898259\n",
            "weight 0.603592097155012\n",
            "ypred 0.7651415090275836\n",
            "error 0.05515851078184059\n",
            "weight 0.6162533170076115\n",
            "ypred 0.7658233877716333\n",
            "error 0.05483868571475484\n",
            "weight 0.6288523414301168\n"
          ]
        }
      ]
    },
    {
      "cell_type": "code",
      "source": [
        ""
      ],
      "metadata": {
        "id": "LNZsi89SPhTY"
      },
      "execution_count": null,
      "outputs": []
    }
  ]
}